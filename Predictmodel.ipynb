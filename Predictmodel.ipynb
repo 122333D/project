{
  "nbformat": 4,
  "nbformat_minor": 0,
  "metadata": {
    "colab": {
      "name": "Predictmodel.ipynb",
      "provenance": [],
      "machine_shape": "hm",
      "include_colab_link": true
    },
    "kernelspec": {
      "name": "python3",
      "display_name": "Python 3"
    }
  },
  "cells": [
    {
      "cell_type": "markdown",
      "metadata": {
        "id": "view-in-github",
        "colab_type": "text"
      },
      "source": [
        "<a href=\"https://colab.research.google.com/github/122333D/project/blob/master/Predictmodel.ipynb\" target=\"_parent\"><img src=\"https://colab.research.google.com/assets/colab-badge.svg\" alt=\"Open In Colab\"/></a>"
      ]
    },
    {
      "cell_type": "code",
      "metadata": {
        "id": "9CiicuW-MFLb",
        "colab_type": "code",
        "outputId": "25a13c92-8cef-4439-ea73-ec8633c4f24b",
        "colab": {
          "base_uri": "https://localhost:8080/",
          "height": 34
        }
      },
      "source": [
        "!pip install --upgrade pip"
      ],
      "execution_count": 0,
      "outputs": [
        {
          "output_type": "stream",
          "text": [
            "Requirement already up-to-date: pip in /usr/local/lib/python3.6/dist-packages (19.3.1)\n"
          ],
          "name": "stdout"
        }
      ]
    },
    {
      "cell_type": "code",
      "metadata": {
        "id": "RM-FAvyeMNCN",
        "colab_type": "code",
        "outputId": "e29adbc4-bd9b-43aa-cbd7-a428697236ab",
        "colab": {
          "base_uri": "https://localhost:8080/",
          "height": 122
        }
      },
      "source": [
        "from google.colab import drive\n",
        "drive.mount('/content/gdrive')"
      ],
      "execution_count": 0,
      "outputs": [
        {
          "output_type": "stream",
          "text": [
            "Go to this URL in a browser: https://accounts.google.com/o/oauth2/auth?client_id=947318989803-6bn6qk8qdgf4n4g3pfee6491hc0brc4i.apps.googleusercontent.com&redirect_uri=urn%3aietf%3awg%3aoauth%3a2.0%3aoob&response_type=code&scope=email%20https%3a%2f%2fwww.googleapis.com%2fauth%2fdocs.test%20https%3a%2f%2fwww.googleapis.com%2fauth%2fdrive%20https%3a%2f%2fwww.googleapis.com%2fauth%2fdrive.photos.readonly%20https%3a%2f%2fwww.googleapis.com%2fauth%2fpeopleapi.readonly\n",
            "\n",
            "Enter your authorization code:\n",
            "··········\n",
            "Mounted at /content/gdrive\n"
          ],
          "name": "stdout"
        }
      ]
    },
    {
      "cell_type": "code",
      "metadata": {
        "id": "e3YCNz8KMQbF",
        "colab_type": "code",
        "outputId": "e6d81855-6f27-46cc-898a-1d47ff032379",
        "colab": {
          "base_uri": "https://localhost:8080/",
          "height": 102
        }
      },
      "source": [
        "!ls \"/content/gdrive/My Drive/ctuCsv\""
      ],
      "execution_count": 0,
      "outputs": [
        {
          "output_type": "stream",
          "text": [
            " All_162182.csv      All_train.csv  'data train'\t   groupby199.csv\n",
            " All_train_162.csv   ctu-10.csv      finalPredictyesssss   groupby19.csv\n",
            " All_train199.csv    ctu-11.csv      groupby11.csv\t   rfcBotreduceft.pkl\n",
            " All_train_19.csv    ctu-42.csv      groupby162182.csv\t   test162182.csv\n",
            " All_train19.csv    'data test'      groupby162.csv\t   yhat19.csv\n"
          ],
          "name": "stdout"
        }
      ]
    },
    {
      "cell_type": "code",
      "metadata": {
        "id": "TWMkiz5tMREO",
        "colab_type": "code",
        "outputId": "c2d3dd5e-9ae5-4031-9929-cded617847f7",
        "colab": {
          "base_uri": "https://localhost:8080/",
          "height": 479
        }
      },
      "source": [
        "import pandas as pd \n",
        "df = pd.read_csv('/content/gdrive/My Drive/ctuCsv/groupby19.csv')\n",
        "df.head()"
      ],
      "execution_count": 0,
      "outputs": [
        {
          "output_type": "execute_result",
          "data": {
            "text/html": [
              "<div>\n",
              "<style scoped>\n",
              "    .dataframe tbody tr th:only-of-type {\n",
              "        vertical-align: middle;\n",
              "    }\n",
              "\n",
              "    .dataframe tbody tr th {\n",
              "        vertical-align: top;\n",
              "    }\n",
              "\n",
              "    .dataframe thead th {\n",
              "        text-align: right;\n",
              "    }\n",
              "</style>\n",
              "<table border=\"1\" class=\"dataframe\">\n",
              "  <thead>\n",
              "    <tr style=\"text-align: right;\">\n",
              "      <th></th>\n",
              "      <th>Flow id</th>\n",
              "      <th>No.</th>\n",
              "      <th>Time</th>\n",
              "      <th>Source</th>\n",
              "      <th>Destination</th>\n",
              "      <th>Protocol</th>\n",
              "      <th>Length</th>\n",
              "      <th>Source Port</th>\n",
              "      <th>Destination Port</th>\n",
              "      <th>Protocols in frame</th>\n",
              "      <th>Time to live</th>\n",
              "      <th>udp_Length</th>\n",
              "      <th>IP_Flags</th>\n",
              "      <th>Sequence number</th>\n",
              "      <th>Next sequence number</th>\n",
              "      <th>TCP Segment Len</th>\n",
              "      <th>tcp_Flags</th>\n",
              "      <th>isBot</th>\n",
              "      <th>Flow name</th>\n",
              "      <th>NumForward</th>\n",
              "      <th>Forward</th>\n",
              "      <th>IOPR</th>\n",
              "      <th>Total</th>\n",
              "      <th>FPL</th>\n",
              "      <th>NumPackets</th>\n",
              "      <th>BytesTotal</th>\n",
              "      <th>StdDevLen</th>\n",
              "      <th>SameLenPktRatio</th>\n",
              "      <th>Duration</th>\n",
              "      <th>AvgPktPerSec</th>\n",
              "      <th>BitsPerSec</th>\n",
              "      <th>APL</th>\n",
              "      <th>IAT</th>\n",
              "      <th>isNull</th>\n",
              "      <th>NPEx</th>\n",
              "      <th>reconnects</th>\n",
              "    </tr>\n",
              "  </thead>\n",
              "  <tbody>\n",
              "    <tr>\n",
              "      <th>0</th>\n",
              "      <td>2578261</td>\n",
              "      <td>5437860</td>\n",
              "      <td>1937.800</td>\n",
              "      <td>147.32.86.58</td>\n",
              "      <td>2.136.152.92</td>\n",
              "      <td>UDP</td>\n",
              "      <td>357</td>\n",
              "      <td>48784</td>\n",
              "      <td>29387</td>\n",
              "      <td>eth:ethertype:ip:udp:wol</td>\n",
              "      <td>127</td>\n",
              "      <td>323.0</td>\n",
              "      <td>0x0000</td>\n",
              "      <td>NaN</td>\n",
              "      <td>NaN</td>\n",
              "      <td>NaN</td>\n",
              "      <td>0</td>\n",
              "      <td>0</td>\n",
              "      <td>2.136.152.92-147.32.86.58-29387-48784-UDP</td>\n",
              "      <td>0</td>\n",
              "      <td>0</td>\n",
              "      <td>-1.0</td>\n",
              "      <td>1</td>\n",
              "      <td>357</td>\n",
              "      <td>1</td>\n",
              "      <td>357</td>\n",
              "      <td>0.00</td>\n",
              "      <td>1.0</td>\n",
              "      <td>0.000000</td>\n",
              "      <td>0.00</td>\n",
              "      <td>0.0</td>\n",
              "      <td>357.000</td>\n",
              "      <td>0.000000</td>\n",
              "      <td>0</td>\n",
              "      <td>0</td>\n",
              "      <td>0</td>\n",
              "    </tr>\n",
              "    <tr>\n",
              "      <th>1</th>\n",
              "      <td>922661</td>\n",
              "      <td>1916650</td>\n",
              "      <td>672.836</td>\n",
              "      <td>83.208.169.216</td>\n",
              "      <td>147.32.85.26</td>\n",
              "      <td>TCP</td>\n",
              "      <td>70</td>\n",
              "      <td>26471</td>\n",
              "      <td>62860</td>\n",
              "      <td>eth:ethertype:ip:tcp</td>\n",
              "      <td>118</td>\n",
              "      <td>NaN</td>\n",
              "      <td>0x4000</td>\n",
              "      <td>16909705.0</td>\n",
              "      <td>16909721.0</td>\n",
              "      <td>16.0</td>\n",
              "      <td>24</td>\n",
              "      <td>0</td>\n",
              "      <td>83.208.169.216-147.32.85.26-26471-62860-TCP</td>\n",
              "      <td>1</td>\n",
              "      <td>1</td>\n",
              "      <td>1.0</td>\n",
              "      <td>2</td>\n",
              "      <td>70</td>\n",
              "      <td>2</td>\n",
              "      <td>130</td>\n",
              "      <td>5.00</td>\n",
              "      <td>1.0</td>\n",
              "      <td>0.000238</td>\n",
              "      <td>8403.36</td>\n",
              "      <td>4369750.0</td>\n",
              "      <td>65.000</td>\n",
              "      <td>0.000119</td>\n",
              "      <td>1</td>\n",
              "      <td>2</td>\n",
              "      <td>0</td>\n",
              "    </tr>\n",
              "    <tr>\n",
              "      <th>2</th>\n",
              "      <td>4865614</td>\n",
              "      <td>10407401</td>\n",
              "      <td>3462.620</td>\n",
              "      <td>147.32.85.103</td>\n",
              "      <td>74.125.108.137</td>\n",
              "      <td>TCP</td>\n",
              "      <td>66</td>\n",
              "      <td>60847</td>\n",
              "      <td>80</td>\n",
              "      <td>eth:ethertype:ip:tcp</td>\n",
              "      <td>62</td>\n",
              "      <td>NaN</td>\n",
              "      <td>0x4000</td>\n",
              "      <td>1777.0</td>\n",
              "      <td>1777.0</td>\n",
              "      <td>0.0</td>\n",
              "      <td>16</td>\n",
              "      <td>0</td>\n",
              "      <td>74.125.108.137-147.32.85.103-80-60847-TCP</td>\n",
              "      <td>0</td>\n",
              "      <td>0</td>\n",
              "      <td>-1.0</td>\n",
              "      <td>2</td>\n",
              "      <td>66</td>\n",
              "      <td>2</td>\n",
              "      <td>132</td>\n",
              "      <td>0.00</td>\n",
              "      <td>0.5</td>\n",
              "      <td>0.000167</td>\n",
              "      <td>11976.00</td>\n",
              "      <td>6323350.0</td>\n",
              "      <td>66.000</td>\n",
              "      <td>0.000083</td>\n",
              "      <td>2</td>\n",
              "      <td>4</td>\n",
              "      <td>2</td>\n",
              "    </tr>\n",
              "    <tr>\n",
              "      <th>3</th>\n",
              "      <td>3159587</td>\n",
              "      <td>6844893</td>\n",
              "      <td>2225.180</td>\n",
              "      <td>147.32.84.59</td>\n",
              "      <td>157.22.19.142</td>\n",
              "      <td>TCP</td>\n",
              "      <td>60</td>\n",
              "      <td>1575</td>\n",
              "      <td>80</td>\n",
              "      <td>eth:ethertype:ip:tcp</td>\n",
              "      <td>126</td>\n",
              "      <td>NaN</td>\n",
              "      <td>0x4000</td>\n",
              "      <td>869.0</td>\n",
              "      <td>869.0</td>\n",
              "      <td>0.0</td>\n",
              "      <td>16</td>\n",
              "      <td>0</td>\n",
              "      <td>157.22.19.142-147.32.84.59-80-1575-TCP</td>\n",
              "      <td>0</td>\n",
              "      <td>0</td>\n",
              "      <td>-1.0</td>\n",
              "      <td>1</td>\n",
              "      <td>60</td>\n",
              "      <td>1</td>\n",
              "      <td>60</td>\n",
              "      <td>0.00</td>\n",
              "      <td>1.0</td>\n",
              "      <td>0.000000</td>\n",
              "      <td>0.00</td>\n",
              "      <td>0.0</td>\n",
              "      <td>60.000</td>\n",
              "      <td>0.000000</td>\n",
              "      <td>1</td>\n",
              "      <td>1</td>\n",
              "      <td>0</td>\n",
              "    </tr>\n",
              "    <tr>\n",
              "      <th>4</th>\n",
              "      <td>4565672</td>\n",
              "      <td>9802276</td>\n",
              "      <td>3213.990</td>\n",
              "      <td>83.208.169.216</td>\n",
              "      <td>147.32.85.26</td>\n",
              "      <td>TCP</td>\n",
              "      <td>1506</td>\n",
              "      <td>26471</td>\n",
              "      <td>62860</td>\n",
              "      <td>eth:ethertype:ip:tcp</td>\n",
              "      <td>118</td>\n",
              "      <td>NaN</td>\n",
              "      <td>0x4000</td>\n",
              "      <td>65656149.0</td>\n",
              "      <td>65657601.0</td>\n",
              "      <td>1452.0</td>\n",
              "      <td>16</td>\n",
              "      <td>0</td>\n",
              "      <td>83.208.169.216-147.32.85.26-26471-62860-TCP</td>\n",
              "      <td>2</td>\n",
              "      <td>1</td>\n",
              "      <td>0.5</td>\n",
              "      <td>3</td>\n",
              "      <td>1506</td>\n",
              "      <td>3</td>\n",
              "      <td>1628</td>\n",
              "      <td>681.18</td>\n",
              "      <td>1.0</td>\n",
              "      <td>0.000605</td>\n",
              "      <td>4958.68</td>\n",
              "      <td>21527300.0</td>\n",
              "      <td>542.667</td>\n",
              "      <td>0.000202</td>\n",
              "      <td>1</td>\n",
              "      <td>3</td>\n",
              "      <td>0</td>\n",
              "    </tr>\n",
              "  </tbody>\n",
              "</table>\n",
              "</div>"
            ],
            "text/plain": [
              "   Flow id       No.      Time  ... isNull NPEx reconnects\n",
              "0  2578261   5437860  1937.800  ...      0    0          0\n",
              "1   922661   1916650   672.836  ...      1    2          0\n",
              "2  4865614  10407401  3462.620  ...      2    4          2\n",
              "3  3159587   6844893  2225.180  ...      1    1          0\n",
              "4  4565672   9802276  3213.990  ...      1    3          0\n",
              "\n",
              "[5 rows x 36 columns]"
            ]
          },
          "metadata": {
            "tags": []
          },
          "execution_count": 4
        }
      ]
    },
    {
      "cell_type": "code",
      "metadata": {
        "id": "xcz1n_RjMTdP",
        "colab_type": "code",
        "colab": {}
      },
      "source": [
        "df = df.sort_values(by=['Flow id']).reset_index(drop=True)"
      ],
      "execution_count": 0,
      "outputs": []
    },
    {
      "cell_type": "code",
      "metadata": {
        "id": "WwKn15fUMWlu",
        "colab_type": "code",
        "colab": {}
      },
      "source": [
        "from sklearn import preprocessing\n",
        "num = preprocessing.LabelEncoder()\n",
        "\n",
        "num.fit(['NBNS', 'SMB', 'PKIX-CRL', 'TCP', 'SIP', 'BROWSER', 'SMTP|IMF', 'SMTP', 'DNS', 'HTTP/XML', 'SSDP', 'SNMP', 'PKTC', 'Laplink', 'IRC', 'UDP', 'SSL', 'ICMP', 'NBSS', 'Socks', 'DCERPC', 'LANMAN', 'HTTP', 'SSLv2', 'TLSv1'])\n",
        "df['Protocol_2']=num.fit_transform(df['Protocol']).astype('int')"
      ],
      "execution_count": 0,
      "outputs": []
    },
    {
      "cell_type": "code",
      "metadata": {
        "id": "zxFD8V4vMdd3",
        "colab_type": "code",
        "colab": {}
      },
      "source": [
        "df['IP_Flags'] = df['IP_Flags'].apply(lambda x:int(x,16) if x!='' else 0)"
      ],
      "execution_count": 0,
      "outputs": []
    },
    {
      "cell_type": "code",
      "metadata": {
        "id": "FaOpa4mZMe2Q",
        "colab_type": "code",
        "colab": {}
      },
      "source": [
        "df = df.fillna(-1)"
      ],
      "execution_count": 0,
      "outputs": []
    },
    {
      "cell_type": "code",
      "metadata": {
        "id": "BMiyojRpMnYN",
        "colab_type": "code",
        "colab": {}
      },
      "source": [
        "import numpy as np\n",
        "from sklearn.model_selection import train_test_split\n",
        "X = np.asarray(df[['Destination Port', 'Source Port', 'udp_Length', 'Length', 'FPL', 'Time to live', 'APL', 'Time', 'BytesTotal', 'Sequence number']])\n",
        "y = np.asarray(df['isBot'])\n",
        "X_train,X_test,y_train,y_test = train_test_split(X,y,test_size=0.3,random_state=0)"
      ],
      "execution_count": 0,
      "outputs": []
    },
    {
      "cell_type": "code",
      "metadata": {
        "id": "fQuCkhNDMw_N",
        "colab_type": "code",
        "colab": {}
      },
      "source": [
        "from sklearn.metrics import f1_score\n",
        "from sklearn.ensemble import RandomForestClassifier\n",
        "rfc = RandomForestClassifier(n_estimators=40)\n",
        "rfc.fit(X_train,y_train)\n",
        "yhat = rfc.predict(X_test)"
      ],
      "execution_count": 0,
      "outputs": []
    },
    {
      "cell_type": "code",
      "metadata": {
        "id": "Sc_6VRDYckYT",
        "colab_type": "code",
        "outputId": "941b3e51-bf7c-49f8-cfdb-88f3b0bbb325",
        "colab": {
          "base_uri": "https://localhost:8080/",
          "height": 34
        }
      },
      "source": [
        "len(df)"
      ],
      "execution_count": 0,
      "outputs": [
        {
          "output_type": "execute_result",
          "data": {
            "text/plain": [
              "6077459"
            ]
          },
          "metadata": {
            "tags": []
          },
          "execution_count": 50
        }
      ]
    },
    {
      "cell_type": "code",
      "metadata": {
        "id": "nyzBBXxJcYcy",
        "colab_type": "code",
        "outputId": "1ecb6f01-9286-4bfe-fe07-54c4e4b8c158",
        "colab": {
          "base_uri": "https://localhost:8080/",
          "height": 34
        }
      },
      "source": [
        "len(X_test)"
      ],
      "execution_count": 0,
      "outputs": [
        {
          "output_type": "execute_result",
          "data": {
            "text/plain": [
              "1823238"
            ]
          },
          "metadata": {
            "tags": []
          },
          "execution_count": 49
        }
      ]
    },
    {
      "cell_type": "code",
      "metadata": {
        "id": "ennV8F5sW1OD",
        "colab_type": "code",
        "outputId": "5d4e1f9a-c2d3-4e56-d729-b3cc4ceb3f04",
        "colab": {
          "base_uri": "https://localhost:8080/",
          "height": 68
        }
      },
      "source": [
        "X_test[0:1]"
      ],
      "execution_count": 0,
      "outputs": [
        {
          "output_type": "execute_result",
          "data": {
            "text/plain": [
              "array([[ 6.286000e+04,  1.109000e+03, -1.000000e+00,  6.000000e+01,\n",
              "         6.000000e+01,  1.180000e+02,  6.000000e+01,  2.492270e+03,\n",
              "         6.000000e+01,  1.232916e+06]])"
            ]
          },
          "metadata": {
            "tags": []
          },
          "execution_count": 24
        }
      ]
    },
    {
      "cell_type": "code",
      "metadata": {
        "id": "jVkofi3yRBAh",
        "colab_type": "code",
        "outputId": "a079203b-e6d9-4d44-ff59-980d510a8c97",
        "colab": {
          "base_uri": "https://localhost:8080/",
          "height": 204
        }
      },
      "source": [
        "y_hat = pd.DataFrame(data = yhat, columns = ['y_hat'])\n",
        "y_hat.head()"
      ],
      "execution_count": 0,
      "outputs": [
        {
          "output_type": "execute_result",
          "data": {
            "text/html": [
              "<div>\n",
              "<style scoped>\n",
              "    .dataframe tbody tr th:only-of-type {\n",
              "        vertical-align: middle;\n",
              "    }\n",
              "\n",
              "    .dataframe tbody tr th {\n",
              "        vertical-align: top;\n",
              "    }\n",
              "\n",
              "    .dataframe thead th {\n",
              "        text-align: right;\n",
              "    }\n",
              "</style>\n",
              "<table border=\"1\" class=\"dataframe\">\n",
              "  <thead>\n",
              "    <tr style=\"text-align: right;\">\n",
              "      <th></th>\n",
              "      <th>y_hat</th>\n",
              "    </tr>\n",
              "  </thead>\n",
              "  <tbody>\n",
              "    <tr>\n",
              "      <th>0</th>\n",
              "      <td>0</td>\n",
              "    </tr>\n",
              "    <tr>\n",
              "      <th>1</th>\n",
              "      <td>0</td>\n",
              "    </tr>\n",
              "    <tr>\n",
              "      <th>2</th>\n",
              "      <td>0</td>\n",
              "    </tr>\n",
              "    <tr>\n",
              "      <th>3</th>\n",
              "      <td>0</td>\n",
              "    </tr>\n",
              "    <tr>\n",
              "      <th>4</th>\n",
              "      <td>0</td>\n",
              "    </tr>\n",
              "  </tbody>\n",
              "</table>\n",
              "</div>"
            ],
            "text/plain": [
              "   y_hat\n",
              "0      0\n",
              "1      0\n",
              "2      0\n",
              "3      0\n",
              "4      0"
            ]
          },
          "metadata": {
            "tags": []
          },
          "execution_count": 38
        }
      ]
    },
    {
      "cell_type": "code",
      "metadata": {
        "id": "hxjniA-5Q0yY",
        "colab_type": "code",
        "colab": {}
      },
      "source": [
        "# y_test['preds'] = yhat\n",
        "df_out = pd.merge(df,y_hat,how = 'left',left_index = True , right_index = True )"
      ],
      "execution_count": 0,
      "outputs": []
    },
    {
      "cell_type": "code",
      "metadata": {
        "id": "nIdwiscNcUBn",
        "colab_type": "code",
        "outputId": "79719348-eb17-490e-d496-fc3801ce842d",
        "colab": {
          "base_uri": "https://localhost:8080/",
          "height": 34
        }
      },
      "source": [
        "len(df_out)"
      ],
      "execution_count": 0,
      "outputs": [
        {
          "output_type": "execute_result",
          "data": {
            "text/plain": [
              "6077459"
            ]
          },
          "metadata": {
            "tags": []
          },
          "execution_count": 48
        }
      ]
    },
    {
      "cell_type": "code",
      "metadata": {
        "id": "LjUIX9aUcpri",
        "colab_type": "code",
        "outputId": "d48d2b12-6a7b-4abf-a2ae-c0020b751028",
        "colab": {
          "base_uri": "https://localhost:8080/",
          "height": 34
        }
      },
      "source": [
        "df_out['y_hat'].unique()"
      ],
      "execution_count": 0,
      "outputs": [
        {
          "output_type": "execute_result",
          "data": {
            "text/plain": [
              "array([ 0.,  1., nan])"
            ]
          },
          "metadata": {
            "tags": []
          },
          "execution_count": 52
        }
      ]
    },
    {
      "cell_type": "code",
      "metadata": {
        "id": "I5B918MwOR_3",
        "colab_type": "code",
        "outputId": "f6fb0c72-c0a7-46dc-abab-48487cbaf213",
        "colab": {
          "base_uri": "https://localhost:8080/",
          "height": 276
        }
      },
      "source": [
        "import matplotlib.pyplot as plt\n",
        "df_out[df_out['y_hat']==1].groupby(['isBot'])['Flow id'].count().plot(kind='bar')\n",
        "\n",
        "plt.show()"
      ],
      "execution_count": 0,
      "outputs": [
        {
          "output_type": "display_data",
          "data": {
            "image/png": "[encoded data removed]",
            "text/plain": [
              "<Figure size 432x288 with 1 Axes>"
            ]
          },
          "metadata": {
            "tags": []
          }
        }
      ]
    },
    {
      "cell_type": "code",
      "metadata": {
        "id": "NXBkOI0xUK9i",
        "colab_type": "code",
        "colab": {}
      },
      "source": [
        "df_out.to_csv(r'/content/gdrive/My Drive/ctuCsv/yhat19.csv',index = None,header=True)"
      ],
      "execution_count": 0,
      "outputs": []
    },
    {
      "cell_type": "code",
      "metadata": {
        "id": "oEWf1uOceuIs",
        "colab_type": "code",
        "outputId": "36fbc2ba-a8c7-4c29-e212-ae3fce8fde29",
        "colab": {
          "base_uri": "https://localhost:8080/",
          "height": 496
        }
      },
      "source": [
        "dtest = pd.read_csv('/content/gdrive/My Drive/ctuCsv/groupby162.csv')\n",
        "dtest.head()"
      ],
      "execution_count": 0,
      "outputs": [
        {
          "output_type": "execute_result",
          "data": {
            "text/html": [
              "<div>\n",
              "<style scoped>\n",
              "    .dataframe tbody tr th:only-of-type {\n",
              "        vertical-align: middle;\n",
              "    }\n",
              "\n",
              "    .dataframe tbody tr th {\n",
              "        vertical-align: top;\n",
              "    }\n",
              "\n",
              "    .dataframe thead th {\n",
              "        text-align: right;\n",
              "    }\n",
              "</style>\n",
              "<table border=\"1\" class=\"dataframe\">\n",
              "  <thead>\n",
              "    <tr style=\"text-align: right;\">\n",
              "      <th></th>\n",
              "      <th>Flow id</th>\n",
              "      <th>No.</th>\n",
              "      <th>Time</th>\n",
              "      <th>Source</th>\n",
              "      <th>Destination</th>\n",
              "      <th>Protocol</th>\n",
              "      <th>Length</th>\n",
              "      <th>Source Port</th>\n",
              "      <th>Destination Port</th>\n",
              "      <th>Protocols in frame</th>\n",
              "      <th>Time to live</th>\n",
              "      <th>udp_Length</th>\n",
              "      <th>IP_Flags</th>\n",
              "      <th>Sequence number</th>\n",
              "      <th>Next sequence number</th>\n",
              "      <th>TCP Segment Len</th>\n",
              "      <th>tcp_Flags</th>\n",
              "      <th>isBot</th>\n",
              "      <th>Flow name</th>\n",
              "      <th>NumForward</th>\n",
              "      <th>Forward</th>\n",
              "      <th>IOPR</th>\n",
              "      <th>Total</th>\n",
              "      <th>FPL</th>\n",
              "      <th>NumPackets</th>\n",
              "      <th>BytesTotal</th>\n",
              "      <th>StdDevLen</th>\n",
              "      <th>SameLenPktRatio</th>\n",
              "      <th>Duration</th>\n",
              "      <th>AvgPktPerSec</th>\n",
              "      <th>BitsPerSec</th>\n",
              "      <th>APL</th>\n",
              "      <th>IAT</th>\n",
              "      <th>isNull</th>\n",
              "      <th>NPEx</th>\n",
              "      <th>reconnects</th>\n",
              "    </tr>\n",
              "  </thead>\n",
              "  <tbody>\n",
              "    <tr>\n",
              "      <th>0</th>\n",
              "      <td>2578261</td>\n",
              "      <td>4942135</td>\n",
              "      <td>823.019</td>\n",
              "      <td>46.4.84.230</td>\n",
              "      <td>147.32.84.59</td>\n",
              "      <td>UDP</td>\n",
              "      <td>1083</td>\n",
              "      <td>54012</td>\n",
              "      <td>7525</td>\n",
              "      <td>eth:ethertype:ip:udp:wol</td>\n",
              "      <td>54</td>\n",
              "      <td>1049.0</td>\n",
              "      <td>0x4000</td>\n",
              "      <td>NaN</td>\n",
              "      <td>NaN</td>\n",
              "      <td>NaN</td>\n",
              "      <td>0</td>\n",
              "      <td>0</td>\n",
              "      <td>46.4.84.230-147.32.84.59-54012-7525-UDP</td>\n",
              "      <td>1</td>\n",
              "      <td>1</td>\n",
              "      <td>0.0</td>\n",
              "      <td>1</td>\n",
              "      <td>1083</td>\n",
              "      <td>1</td>\n",
              "      <td>1083</td>\n",
              "      <td>0.0</td>\n",
              "      <td>1.0</td>\n",
              "      <td>0.0</td>\n",
              "      <td>0.0</td>\n",
              "      <td>0.0</td>\n",
              "      <td>1083.0</td>\n",
              "      <td>0.0</td>\n",
              "      <td>0</td>\n",
              "      <td>0</td>\n",
              "      <td>0</td>\n",
              "    </tr>\n",
              "    <tr>\n",
              "      <th>1</th>\n",
              "      <td>922661</td>\n",
              "      <td>2065098</td>\n",
              "      <td>272.037</td>\n",
              "      <td>147.32.84.94</td>\n",
              "      <td>176.9.0.180</td>\n",
              "      <td>UDP</td>\n",
              "      <td>60</td>\n",
              "      <td>7103</td>\n",
              "      <td>52012</td>\n",
              "      <td>eth:ethertype:ip:udp:lbtrm</td>\n",
              "      <td>63</td>\n",
              "      <td>16.0</td>\n",
              "      <td>0x4000</td>\n",
              "      <td>NaN</td>\n",
              "      <td>NaN</td>\n",
              "      <td>NaN</td>\n",
              "      <td>0</td>\n",
              "      <td>0</td>\n",
              "      <td>176.9.0.180-147.32.84.94-52012-7103-UDP</td>\n",
              "      <td>0</td>\n",
              "      <td>0</td>\n",
              "      <td>-1.0</td>\n",
              "      <td>1</td>\n",
              "      <td>60</td>\n",
              "      <td>1</td>\n",
              "      <td>60</td>\n",
              "      <td>0.0</td>\n",
              "      <td>1.0</td>\n",
              "      <td>0.0</td>\n",
              "      <td>0.0</td>\n",
              "      <td>0.0</td>\n",
              "      <td>60.0</td>\n",
              "      <td>0.0</td>\n",
              "      <td>0</td>\n",
              "      <td>0</td>\n",
              "      <td>0</td>\n",
              "    </tr>\n",
              "    <tr>\n",
              "      <th>2</th>\n",
              "      <td>3159587</td>\n",
              "      <td>6014109</td>\n",
              "      <td>1007.610</td>\n",
              "      <td>147.32.84.59</td>\n",
              "      <td>188.40.116.162</td>\n",
              "      <td>UDP</td>\n",
              "      <td>1082</td>\n",
              "      <td>7525</td>\n",
              "      <td>50012</td>\n",
              "      <td>eth:ethertype:ip:udp:wol</td>\n",
              "      <td>62</td>\n",
              "      <td>1048.0</td>\n",
              "      <td>0x4000</td>\n",
              "      <td>NaN</td>\n",
              "      <td>NaN</td>\n",
              "      <td>NaN</td>\n",
              "      <td>0</td>\n",
              "      <td>0</td>\n",
              "      <td>188.40.116.162-147.32.84.59-50012-7525-UDP</td>\n",
              "      <td>0</td>\n",
              "      <td>0</td>\n",
              "      <td>-1.0</td>\n",
              "      <td>1</td>\n",
              "      <td>1082</td>\n",
              "      <td>1</td>\n",
              "      <td>1082</td>\n",
              "      <td>0.0</td>\n",
              "      <td>1.0</td>\n",
              "      <td>0.0</td>\n",
              "      <td>0.0</td>\n",
              "      <td>0.0</td>\n",
              "      <td>1082.0</td>\n",
              "      <td>0.0</td>\n",
              "      <td>0</td>\n",
              "      <td>0</td>\n",
              "      <td>0</td>\n",
              "    </tr>\n",
              "    <tr>\n",
              "      <th>3</th>\n",
              "      <td>455697</td>\n",
              "      <td>1004056</td>\n",
              "      <td>100.024</td>\n",
              "      <td>125.228.221.40</td>\n",
              "      <td>147.32.84.94</td>\n",
              "      <td>UDP</td>\n",
              "      <td>78</td>\n",
              "      <td>7191</td>\n",
              "      <td>7103</td>\n",
              "      <td>eth:ethertype:ip:udp:rtps</td>\n",
              "      <td>106</td>\n",
              "      <td>44.0</td>\n",
              "      <td>0x0000</td>\n",
              "      <td>NaN</td>\n",
              "      <td>NaN</td>\n",
              "      <td>NaN</td>\n",
              "      <td>0</td>\n",
              "      <td>0</td>\n",
              "      <td>147.32.84.94-125.228.221.40-7103-7191-UDP</td>\n",
              "      <td>0</td>\n",
              "      <td>0</td>\n",
              "      <td>-1.0</td>\n",
              "      <td>1</td>\n",
              "      <td>78</td>\n",
              "      <td>1</td>\n",
              "      <td>78</td>\n",
              "      <td>0.0</td>\n",
              "      <td>1.0</td>\n",
              "      <td>0.0</td>\n",
              "      <td>0.0</td>\n",
              "      <td>0.0</td>\n",
              "      <td>78.0</td>\n",
              "      <td>0.0</td>\n",
              "      <td>0</td>\n",
              "      <td>0</td>\n",
              "      <td>0</td>\n",
              "    </tr>\n",
              "    <tr>\n",
              "      <th>4</th>\n",
              "      <td>1032731</td>\n",
              "      <td>2250943</td>\n",
              "      <td>308.973</td>\n",
              "      <td>147.32.84.59</td>\n",
              "      <td>188.40.113.241</td>\n",
              "      <td>UDP</td>\n",
              "      <td>1083</td>\n",
              "      <td>7525</td>\n",
              "      <td>50012</td>\n",
              "      <td>eth:ethertype:ip:udp:wol</td>\n",
              "      <td>62</td>\n",
              "      <td>1049.0</td>\n",
              "      <td>0x4000</td>\n",
              "      <td>NaN</td>\n",
              "      <td>NaN</td>\n",
              "      <td>NaN</td>\n",
              "      <td>0</td>\n",
              "      <td>0</td>\n",
              "      <td>188.40.113.241-147.32.84.59-50012-7525-UDP</td>\n",
              "      <td>0</td>\n",
              "      <td>0</td>\n",
              "      <td>-1.0</td>\n",
              "      <td>1</td>\n",
              "      <td>1083</td>\n",
              "      <td>1</td>\n",
              "      <td>1083</td>\n",
              "      <td>0.0</td>\n",
              "      <td>1.0</td>\n",
              "      <td>0.0</td>\n",
              "      <td>0.0</td>\n",
              "      <td>0.0</td>\n",
              "      <td>1083.0</td>\n",
              "      <td>0.0</td>\n",
              "      <td>0</td>\n",
              "      <td>0</td>\n",
              "      <td>0</td>\n",
              "    </tr>\n",
              "  </tbody>\n",
              "</table>\n",
              "</div>"
            ],
            "text/plain": [
              "   Flow id      No.      Time          Source  ...  IAT isNull  NPEx  reconnects\n",
              "0  2578261  4942135   823.019     46.4.84.230  ...  0.0      0     0           0\n",
              "1   922661  2065098   272.037    147.32.84.94  ...  0.0      0     0           0\n",
              "2  3159587  6014109  1007.610    147.32.84.59  ...  0.0      0     0           0\n",
              "3   455697  1004056   100.024  125.228.221.40  ...  0.0      0     0           0\n",
              "4  1032731  2250943   308.973    147.32.84.59  ...  0.0      0     0           0\n",
              "\n",
              "[5 rows x 36 columns]"
            ]
          },
          "metadata": {
            "tags": []
          },
          "execution_count": 9
        }
      ]
    },
    {
      "cell_type": "code",
      "metadata": {
        "id": "P7CjlCffexAp",
        "colab_type": "code",
        "colab": {}
      },
      "source": [
        "dtest = dtest.sort_values(by=['Flow id']).reset_index(drop=True)"
      ],
      "execution_count": 0,
      "outputs": []
    },
    {
      "cell_type": "code",
      "metadata": {
        "id": "JmuFLov9e2ws",
        "colab_type": "code",
        "colab": {}
      },
      "source": [
        "from sklearn import preprocessing\n",
        "num = preprocessing.LabelEncoder()\n",
        "\n",
        "num.fit(['NBNS', 'SMB', 'PKIX-CRL', 'TCP', 'SIP', 'BROWSER', 'SMTP|IMF', 'SMTP', 'DNS', 'HTTP/XML', 'SSDP', 'SNMP', 'PKTC', 'Laplink', 'IRC', 'UDP', 'SSL', 'ICMP', 'NBSS', 'Socks', 'DCERPC', 'LANMAN', 'HTTP', 'SSLv2', 'TLSv1'])\n",
        "dtest['Protocol_2']=num.fit_transform(dtest['Protocol']).astype('int')"
      ],
      "execution_count": 0,
      "outputs": []
    },
    {
      "cell_type": "code",
      "metadata": {
        "id": "0TvZzY1Re6h8",
        "colab_type": "code",
        "colab": {}
      },
      "source": [
        "dtest['IP_Flags'] = dtest['IP_Flags'].apply(lambda x:int(x,16) if x!='' else 0)"
      ],
      "execution_count": 0,
      "outputs": []
    },
    {
      "cell_type": "code",
      "metadata": {
        "id": "0_BqJqbhe863",
        "colab_type": "code",
        "colab": {}
      },
      "source": [
        "dtest = dtest.fillna(-1)"
      ],
      "execution_count": 0,
      "outputs": []
    },
    {
      "cell_type": "code",
      "metadata": {
        "id": "Lsf-l_nke_K0",
        "colab_type": "code",
        "colab": {}
      },
      "source": [
        "frames = [df,dtest]\n",
        "\n",
        "result = pd.concat(frames)"
      ],
      "execution_count": 0,
      "outputs": []
    },
    {
      "cell_type": "code",
      "metadata": {
        "id": "bCamdL-rfC7J",
        "colab_type": "code",
        "colab": {}
      },
      "source": [
        "import numpy as np\n",
        "from sklearn.model_selection import train_test_split\n",
        "X = np.asarray(result[['Destination Port', 'Source Port', 'udp_Length', 'Length', 'FPL', 'Time to live', 'APL', 'Time', 'BytesTotal', 'Sequence number']])\n",
        "y = np.asarray(result['isBot'])\n",
        "X_train,X_test,y_train,y_test = train_test_split(X,y,test_size=0.3,random_state=0)"
      ],
      "execution_count": 0,
      "outputs": []
    },
    {
      "cell_type": "code",
      "metadata": {
        "id": "vbNzfqiCfL81",
        "colab_type": "code",
        "colab": {}
      },
      "source": [
        "from sklearn.metrics import f1_score\n",
        "from sklearn.ensemble import RandomForestClassifier\n",
        "rfc = RandomForestClassifier(n_estimators=40)\n",
        "rfc.fit(X_train,y_train)\n",
        "yhat = rfc.predict(X_test)"
      ],
      "execution_count": 0,
      "outputs": []
    },
    {
      "cell_type": "code",
      "metadata": {
        "id": "D6fDjP6SfVRU",
        "colab_type": "code",
        "outputId": "19e93421-8f37-431c-9e59-bb8520679403",
        "colab": {
          "base_uri": "https://localhost:8080/",
          "height": 204
        }
      },
      "source": [
        "y_hat = pd.DataFrame(data = yhat, columns = ['y_hat'])\n",
        "y_hat.head()"
      ],
      "execution_count": 0,
      "outputs": [
        {
          "output_type": "execute_result",
          "data": {
            "text/html": [
              "<div>\n",
              "<style scoped>\n",
              "    .dataframe tbody tr th:only-of-type {\n",
              "        vertical-align: middle;\n",
              "    }\n",
              "\n",
              "    .dataframe tbody tr th {\n",
              "        vertical-align: top;\n",
              "    }\n",
              "\n",
              "    .dataframe thead th {\n",
              "        text-align: right;\n",
              "    }\n",
              "</style>\n",
              "<table border=\"1\" class=\"dataframe\">\n",
              "  <thead>\n",
              "    <tr style=\"text-align: right;\">\n",
              "      <th></th>\n",
              "      <th>y_hat</th>\n",
              "    </tr>\n",
              "  </thead>\n",
              "  <tbody>\n",
              "    <tr>\n",
              "      <th>0</th>\n",
              "      <td>0</td>\n",
              "    </tr>\n",
              "    <tr>\n",
              "      <th>1</th>\n",
              "      <td>0</td>\n",
              "    </tr>\n",
              "    <tr>\n",
              "      <th>2</th>\n",
              "      <td>0</td>\n",
              "    </tr>\n",
              "    <tr>\n",
              "      <th>3</th>\n",
              "      <td>0</td>\n",
              "    </tr>\n",
              "    <tr>\n",
              "      <th>4</th>\n",
              "      <td>0</td>\n",
              "    </tr>\n",
              "  </tbody>\n",
              "</table>\n",
              "</div>"
            ],
            "text/plain": [
              "   y_hat\n",
              "0      0\n",
              "1      0\n",
              "2      0\n",
              "3      0\n",
              "4      0"
            ]
          },
          "metadata": {
            "tags": []
          },
          "execution_count": 17
        }
      ]
    },
    {
      "cell_type": "code",
      "metadata": {
        "id": "2pt5zmIqfo0t",
        "colab_type": "code",
        "colab": {}
      },
      "source": [
        "df_out = pd.merge(result,y_hat,how = 'left',left_index = True , right_index = True )"
      ],
      "execution_count": 0,
      "outputs": []
    },
    {
      "cell_type": "code",
      "metadata": {
        "id": "MYixIcBvkBqE",
        "colab_type": "code",
        "outputId": "c98dceb8-3fd7-4b93-b9d1-a1a07f144a3e",
        "colab": {
          "base_uri": "https://localhost:8080/",
          "height": 34
        }
      },
      "source": [
        "len(df_out)"
      ],
      "execution_count": 0,
      "outputs": [
        {
          "output_type": "execute_result",
          "data": {
            "text/plain": [
              "10090150"
            ]
          },
          "metadata": {
            "tags": []
          },
          "execution_count": 20
        }
      ]
    },
    {
      "cell_type": "code",
      "metadata": {
        "id": "ogRjS8jCfyXQ",
        "colab_type": "code",
        "colab": {}
      },
      "source": [
        "df_out.to_csv(r'/content/gdrive/My Drive/ctuCsv/yhat16219.csv',index = None,header=True)"
      ],
      "execution_count": 0,
      "outputs": []
    }
  ]
}