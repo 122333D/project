{
  "nbformat": 4,
  "nbformat_minor": 0,
  "metadata": {
    "colab": {
      "name": "Predicttt.ipynb",
      "provenance": [],
      "collapsed_sections": [],
      "machine_shape": "hm",
      "include_colab_link": true
    },
    "kernelspec": {
      "name": "python3",
      "display_name": "Python 3"
    }
  },
  "cells": [
    {
      "cell_type": "markdown",
      "metadata": {
        "id": "view-in-github",
        "colab_type": "text"
      },
      "source": [
        "<a href=\"https://colab.research.google.com/github/122333D/project/blob/master/Predicttt.ipynb\" target=\"_parent\"><img src=\"https://colab.research.google.com/assets/colab-badge.svg\" alt=\"Open In Colab\"/></a>"
      ]
    },
    {
      "cell_type": "code",
      "metadata": {
        "id": "xIjNLjJzNGcO",
        "colab_type": "code",
        "outputId": "3665420e-ddac-43d0-b393-47199aa49e81",
        "colab": {
          "base_uri": "https://localhost:8080/",
          "height": 34
        }
      },
      "source": [
        "!pip install --upgrade pip\n"
      ],
      "execution_count": 0,
      "outputs": [
        {
          "output_type": "stream",
          "text": [
            "Requirement already up-to-date: pip in /usr/local/lib/python3.6/dist-packages (19.3.1)\n"
          ],
          "name": "stdout"
        }
      ]
    },
    {
      "cell_type": "code",
      "metadata": {
        "id": "1LC4_8aQOkYY",
        "colab_type": "code",
        "outputId": "767b9e22-511c-4479-89b1-4f6d759a10a5",
        "colab": {
          "base_uri": "https://localhost:8080/",
          "height": 122
        }
      },
      "source": [
        "from google.colab import drive\n",
        "drive.mount('/content/gdrive')\n"
      ],
      "execution_count": 0,
      "outputs": [
        {
          "output_type": "stream",
          "text": [
            "Go to this URL in a browser: https://accounts.google.com/o/oauth2/auth?client_id=947318989803-6bn6qk8qdgf4n4g3pfee6491hc0brc4i.apps.googleusercontent.com&redirect_uri=urn%3aietf%3awg%3aoauth%3a2.0%3aoob&response_type=code&scope=email%20https%3a%2f%2fwww.googleapis.com%2fauth%2fdocs.test%20https%3a%2f%2fwww.googleapis.com%2fauth%2fdrive%20https%3a%2f%2fwww.googleapis.com%2fauth%2fdrive.photos.readonly%20https%3a%2f%2fwww.googleapis.com%2fauth%2fpeopleapi.readonly\n",
            "\n",
            "Enter your authorization code:\n",
            "··········\n",
            "Mounted at /content/gdrive\n"
          ],
          "name": "stdout"
        }
      ]
    },
    {
      "cell_type": "code",
      "metadata": {
        "id": "d16qIoutOnsk",
        "colab_type": "code",
        "outputId": "c26402a9-ba26-4fbb-bef1-8d0d3686a882",
        "colab": {
          "base_uri": "https://localhost:8080/",
          "height": 119
        }
      },
      "source": [
        "!ls \"/content/gdrive/My Drive/ctuCsv\""
      ],
      "execution_count": 0,
      "outputs": [
        {
          "output_type": "stream",
          "text": [
            " All_162182.csv      ctu-10.csv\t\t   groupby11.csv        test162182.csv\n",
            " All_train_162.csv   ctu-11.csv\t\t   groupby162182.csv    yhat16219.csv\n",
            " All_train199.csv    ctu-42.csv\t\t   groupby162.csv       yhat19.csv\n",
            " All_train_19.csv   'data test'\t\t   groupby199.csv\n",
            " All_train19.csv    'data train'\t   groupby19.csv\n",
            " All_train.csv\t     finalPredictyesssss   rfcBotreduceft.pkl\n"
          ],
          "name": "stdout"
        }
      ]
    },
    {
      "cell_type": "code",
      "metadata": {
        "id": "hlgEv6mzNNLj",
        "colab_type": "code",
        "outputId": "387413de-8950-480d-e822-a57d33304b33",
        "colab": {
          "base_uri": "https://localhost:8080/",
          "height": 479
        }
      },
      "source": [
        "import pandas as pd \n",
        "df = pd.read_csv('/content/gdrive/My Drive/ctuCsv/groupby19.csv')\n",
        "df.head()\n",
        "# df.isnull().sum()\n"
      ],
      "execution_count": 0,
      "outputs": [
        {
          "output_type": "execute_result",
          "data": {
            "text/html": [
              "<div>\n",
              "<style scoped>\n",
              "    .dataframe tbody tr th:only-of-type {\n",
              "        vertical-align: middle;\n",
              "    }\n",
              "\n",
              "    .dataframe tbody tr th {\n",
              "        vertical-align: top;\n",
              "    }\n",
              "\n",
              "    .dataframe thead th {\n",
              "        text-align: right;\n",
              "    }\n",
              "</style>\n",
              "<table border=\"1\" class=\"dataframe\">\n",
              "  <thead>\n",
              "    <tr style=\"text-align: right;\">\n",
              "      <th></th>\n",
              "      <th>Flow id</th>\n",
              "      <th>No.</th>\n",
              "      <th>Time</th>\n",
              "      <th>Source</th>\n",
              "      <th>Destination</th>\n",
              "      <th>Protocol</th>\n",
              "      <th>Length</th>\n",
              "      <th>Source Port</th>\n",
              "      <th>Destination Port</th>\n",
              "      <th>Protocols in frame</th>\n",
              "      <th>Time to live</th>\n",
              "      <th>udp_Length</th>\n",
              "      <th>IP_Flags</th>\n",
              "      <th>Sequence number</th>\n",
              "      <th>Next sequence number</th>\n",
              "      <th>TCP Segment Len</th>\n",
              "      <th>tcp_Flags</th>\n",
              "      <th>isBot</th>\n",
              "      <th>Flow name</th>\n",
              "      <th>NumForward</th>\n",
              "      <th>Forward</th>\n",
              "      <th>IOPR</th>\n",
              "      <th>Total</th>\n",
              "      <th>FPL</th>\n",
              "      <th>NumPackets</th>\n",
              "      <th>BytesTotal</th>\n",
              "      <th>StdDevLen</th>\n",
              "      <th>SameLenPktRatio</th>\n",
              "      <th>Duration</th>\n",
              "      <th>AvgPktPerSec</th>\n",
              "      <th>BitsPerSec</th>\n",
              "      <th>APL</th>\n",
              "      <th>IAT</th>\n",
              "      <th>isNull</th>\n",
              "      <th>NPEx</th>\n",
              "      <th>reconnects</th>\n",
              "    </tr>\n",
              "  </thead>\n",
              "  <tbody>\n",
              "    <tr>\n",
              "      <th>0</th>\n",
              "      <td>2578261</td>\n",
              "      <td>5437860</td>\n",
              "      <td>1937.800</td>\n",
              "      <td>147.32.86.58</td>\n",
              "      <td>2.136.152.92</td>\n",
              "      <td>UDP</td>\n",
              "      <td>357</td>\n",
              "      <td>48784</td>\n",
              "      <td>29387</td>\n",
              "      <td>eth:ethertype:ip:udp:wol</td>\n",
              "      <td>127</td>\n",
              "      <td>323.0</td>\n",
              "      <td>0x0000</td>\n",
              "      <td>NaN</td>\n",
              "      <td>NaN</td>\n",
              "      <td>NaN</td>\n",
              "      <td>0</td>\n",
              "      <td>0</td>\n",
              "      <td>2.136.152.92-147.32.86.58-29387-48784-UDP</td>\n",
              "      <td>0</td>\n",
              "      <td>0</td>\n",
              "      <td>-1.0</td>\n",
              "      <td>1</td>\n",
              "      <td>357</td>\n",
              "      <td>1</td>\n",
              "      <td>357</td>\n",
              "      <td>0.00</td>\n",
              "      <td>1.0</td>\n",
              "      <td>0.000000</td>\n",
              "      <td>0.00</td>\n",
              "      <td>0.0</td>\n",
              "      <td>357.000</td>\n",
              "      <td>0.000000</td>\n",
              "      <td>0</td>\n",
              "      <td>0</td>\n",
              "      <td>0</td>\n",
              "    </tr>\n",
              "    <tr>\n",
              "      <th>1</th>\n",
              "      <td>922661</td>\n",
              "      <td>1916650</td>\n",
              "      <td>672.836</td>\n",
              "      <td>83.208.169.216</td>\n",
              "      <td>147.32.85.26</td>\n",
              "      <td>TCP</td>\n",
              "      <td>70</td>\n",
              "      <td>26471</td>\n",
              "      <td>62860</td>\n",
              "      <td>eth:ethertype:ip:tcp</td>\n",
              "      <td>118</td>\n",
              "      <td>NaN</td>\n",
              "      <td>0x4000</td>\n",
              "      <td>16909705.0</td>\n",
              "      <td>16909721.0</td>\n",
              "      <td>16.0</td>\n",
              "      <td>24</td>\n",
              "      <td>0</td>\n",
              "      <td>83.208.169.216-147.32.85.26-26471-62860-TCP</td>\n",
              "      <td>1</td>\n",
              "      <td>1</td>\n",
              "      <td>1.0</td>\n",
              "      <td>2</td>\n",
              "      <td>70</td>\n",
              "      <td>2</td>\n",
              "      <td>130</td>\n",
              "      <td>5.00</td>\n",
              "      <td>1.0</td>\n",
              "      <td>0.000238</td>\n",
              "      <td>8403.36</td>\n",
              "      <td>4369750.0</td>\n",
              "      <td>65.000</td>\n",
              "      <td>0.000119</td>\n",
              "      <td>1</td>\n",
              "      <td>2</td>\n",
              "      <td>0</td>\n",
              "    </tr>\n",
              "    <tr>\n",
              "      <th>2</th>\n",
              "      <td>4865614</td>\n",
              "      <td>10407401</td>\n",
              "      <td>3462.620</td>\n",
              "      <td>147.32.85.103</td>\n",
              "      <td>74.125.108.137</td>\n",
              "      <td>TCP</td>\n",
              "      <td>66</td>\n",
              "      <td>60847</td>\n",
              "      <td>80</td>\n",
              "      <td>eth:ethertype:ip:tcp</td>\n",
              "      <td>62</td>\n",
              "      <td>NaN</td>\n",
              "      <td>0x4000</td>\n",
              "      <td>1777.0</td>\n",
              "      <td>1777.0</td>\n",
              "      <td>0.0</td>\n",
              "      <td>16</td>\n",
              "      <td>0</td>\n",
              "      <td>74.125.108.137-147.32.85.103-80-60847-TCP</td>\n",
              "      <td>0</td>\n",
              "      <td>0</td>\n",
              "      <td>-1.0</td>\n",
              "      <td>2</td>\n",
              "      <td>66</td>\n",
              "      <td>2</td>\n",
              "      <td>132</td>\n",
              "      <td>0.00</td>\n",
              "      <td>0.5</td>\n",
              "      <td>0.000167</td>\n",
              "      <td>11976.00</td>\n",
              "      <td>6323350.0</td>\n",
              "      <td>66.000</td>\n",
              "      <td>0.000083</td>\n",
              "      <td>2</td>\n",
              "      <td>4</td>\n",
              "      <td>2</td>\n",
              "    </tr>\n",
              "    <tr>\n",
              "      <th>3</th>\n",
              "      <td>3159587</td>\n",
              "      <td>6844893</td>\n",
              "      <td>2225.180</td>\n",
              "      <td>147.32.84.59</td>\n",
              "      <td>157.22.19.142</td>\n",
              "      <td>TCP</td>\n",
              "      <td>60</td>\n",
              "      <td>1575</td>\n",
              "      <td>80</td>\n",
              "      <td>eth:ethertype:ip:tcp</td>\n",
              "      <td>126</td>\n",
              "      <td>NaN</td>\n",
              "      <td>0x4000</td>\n",
              "      <td>869.0</td>\n",
              "      <td>869.0</td>\n",
              "      <td>0.0</td>\n",
              "      <td>16</td>\n",
              "      <td>0</td>\n",
              "      <td>157.22.19.142-147.32.84.59-80-1575-TCP</td>\n",
              "      <td>0</td>\n",
              "      <td>0</td>\n",
              "      <td>-1.0</td>\n",
              "      <td>1</td>\n",
              "      <td>60</td>\n",
              "      <td>1</td>\n",
              "      <td>60</td>\n",
              "      <td>0.00</td>\n",
              "      <td>1.0</td>\n",
              "      <td>0.000000</td>\n",
              "      <td>0.00</td>\n",
              "      <td>0.0</td>\n",
              "      <td>60.000</td>\n",
              "      <td>0.000000</td>\n",
              "      <td>1</td>\n",
              "      <td>1</td>\n",
              "      <td>0</td>\n",
              "    </tr>\n",
              "    <tr>\n",
              "      <th>4</th>\n",
              "      <td>4565672</td>\n",
              "      <td>9802276</td>\n",
              "      <td>3213.990</td>\n",
              "      <td>83.208.169.216</td>\n",
              "      <td>147.32.85.26</td>\n",
              "      <td>TCP</td>\n",
              "      <td>1506</td>\n",
              "      <td>26471</td>\n",
              "      <td>62860</td>\n",
              "      <td>eth:ethertype:ip:tcp</td>\n",
              "      <td>118</td>\n",
              "      <td>NaN</td>\n",
              "      <td>0x4000</td>\n",
              "      <td>65656149.0</td>\n",
              "      <td>65657601.0</td>\n",
              "      <td>1452.0</td>\n",
              "      <td>16</td>\n",
              "      <td>0</td>\n",
              "      <td>83.208.169.216-147.32.85.26-26471-62860-TCP</td>\n",
              "      <td>2</td>\n",
              "      <td>1</td>\n",
              "      <td>0.5</td>\n",
              "      <td>3</td>\n",
              "      <td>1506</td>\n",
              "      <td>3</td>\n",
              "      <td>1628</td>\n",
              "      <td>681.18</td>\n",
              "      <td>1.0</td>\n",
              "      <td>0.000605</td>\n",
              "      <td>4958.68</td>\n",
              "      <td>21527300.0</td>\n",
              "      <td>542.667</td>\n",
              "      <td>0.000202</td>\n",
              "      <td>1</td>\n",
              "      <td>3</td>\n",
              "      <td>0</td>\n",
              "    </tr>\n",
              "  </tbody>\n",
              "</table>\n",
              "</div>"
            ],
            "text/plain": [
              "   Flow id       No.      Time  ... isNull NPEx reconnects\n",
              "0  2578261   5437860  1937.800  ...      0    0          0\n",
              "1   922661   1916650   672.836  ...      1    2          0\n",
              "2  4865614  10407401  3462.620  ...      2    4          2\n",
              "3  3159587   6844893  2225.180  ...      1    1          0\n",
              "4  4565672   9802276  3213.990  ...      1    3          0\n",
              "\n",
              "[5 rows x 36 columns]"
            ]
          },
          "metadata": {
            "tags": []
          },
          "execution_count": 3
        }
      ]
    },
    {
      "cell_type": "code",
      "metadata": {
        "id": "a7kalUIn9rRB",
        "colab_type": "code",
        "colab": {}
      },
      "source": [
        "df = df.sort_values(by=['Flow id']).reset_index(drop=True)"
      ],
      "execution_count": 0,
      "outputs": []
    },
    {
      "cell_type": "code",
      "metadata": {
        "id": "UHf88eDCNP_1",
        "colab_type": "code",
        "colab": {}
      },
      "source": [
        "from sklearn import preprocessing\n",
        "num = preprocessing.LabelEncoder()\n",
        "\n",
        "num.fit(['NBNS', 'SMB', 'PKIX-CRL', 'TCP', 'SIP', 'BROWSER', 'SMTP|IMF', 'SMTP', 'DNS', 'HTTP/XML', 'SSDP', 'SNMP', 'PKTC', 'Laplink', 'IRC', 'UDP', 'SSL', 'ICMP', 'NBSS', 'Socks', 'DCERPC', 'LANMAN', 'HTTP', 'SSLv2', 'TLSv1'])\n",
        "df['Protocol_2']=num.fit_transform(df['Protocol']).astype('int')"
      ],
      "execution_count": 0,
      "outputs": []
    },
    {
      "cell_type": "code",
      "metadata": {
        "id": "clNt9007b-Wk",
        "colab_type": "code",
        "colab": {}
      },
      "source": [
        "df['IP_Flags'] = df['IP_Flags'].apply(lambda x:int(x,16) if x!='' else 0)"
      ],
      "execution_count": 0,
      "outputs": []
    },
    {
      "cell_type": "code",
      "metadata": {
        "id": "W_YNqjetcbIi",
        "colab_type": "code",
        "colab": {}
      },
      "source": [
        "df = df.fillna(-1)"
      ],
      "execution_count": 0,
      "outputs": []
    },
    {
      "cell_type": "code",
      "metadata": {
        "id": "E1-aipKabFLw",
        "colab_type": "code",
        "outputId": "ac01e96b-3f21-4859-ecc2-4b8505d1755b",
        "colab": {
          "base_uri": "https://localhost:8080/",
          "height": 68
        }
      },
      "source": [
        "import numpy as np\n",
        "from sklearn.ensemble import RandomForestClassifier\n",
        "from sklearn.feature_selection import RFE\n",
        "\n",
        "X = np.asarray(df[['Time','Length','Source Port','Destination Port','Time to live','udp_Length','FPL','APL']])\n",
        "y = np.asarray(df['isBot'])\n",
        "rfc = RandomForestClassifier(n_estimators=40)\n",
        "\n",
        "rfe = RFE(rfc,1)\n",
        "rfe_fit = rfe.fit(X, y)\n",
        "print(\"Num Features: %s\" % (rfe_fit.n_features_))\n",
        "print(\"Selected Features: %s\" % (rfe_fit.support_))\n",
        "print(\"Feature Ranking: %s\" % (rfe_fit.ranking_))"
      ],
      "execution_count": 0,
      "outputs": [
        {
          "output_type": "stream",
          "text": [
            "Num Features: 1\n",
            "Selected Features: [False False False  True False False False False]\n",
            "Feature Ranking: [8 4 2 1 6 3 5 7]\n"
          ],
          "name": "stdout"
        }
      ]
    },
    {
      "cell_type": "code",
      "metadata": {
        "id": "x_pgQvoFhch9",
        "colab_type": "code",
        "outputId": "c562891a-e952-4eb3-8f6e-2f043ae6f9b1",
        "colab": {
          "base_uri": "https://localhost:8080/",
          "height": 510
        }
      },
      "source": [
        "import numpy as np\n",
        "from sklearn.model_selection import train_test_split\n",
        "from sklearn.metrics import f1_score\n",
        "from sklearn.ensemble import RandomForestClassifier\n",
        "fine = ['Destination Port','Source Port','udp_Length','Length','FPL','Time to live','APL','Time','BytesTotal','Sequence number','Protocol_2','Next sequence number','TCP Segment Len','IOPR','StdDevLen',\n",
        "     'IP_Flags','tcp_Flags','SameLenPktRatio','NumForward','Forward','BitsPerSec','IAT','Total','Duration','NumPackets','AvgPktPerSec','isNull','NPEx','reconnects']\n",
        "\n",
        "for i in range(len(fine)):\n",
        "  i=i+1\n",
        "  b= fine[0:i]\n",
        "  X = np.asarray(df[b])\n",
        "  y = np.asarray(df['isBot'])\n",
        "  X_train,X_test,y_train,y_test = train_test_split(X,y,test_size=0.3,random_state=0)\n",
        "  rfc = RandomForestClassifier(n_estimators=40)\n",
        "  rfc.fit(X_train,y_train)\n",
        "  print ('F1 score =', f1_score(y_test,rfc.predict(X_test)))\n",
        "  \n"
      ],
      "execution_count": 0,
      "outputs": [
        {
          "output_type": "stream",
          "text": [
            "F1 score = 0.8901759333870534\n",
            "F1 score = 0.9863316392562896\n",
            "F1 score = 0.9860501814738835\n",
            "F1 score = 0.9874568088228334\n",
            "F1 score = 0.9869834808538837\n",
            "F1 score = 0.9940227419685523\n",
            "F1 score = 0.9939902519046643\n",
            "F1 score = 0.9987830896878703\n",
            "F1 score = 0.9988305572236796\n",
            "F1 score = 0.9990361978796354\n",
            "F1 score = 0.9989886859237722\n",
            "F1 score = 0.9987516000063211\n",
            "F1 score = 0.9986093552465234\n",
            "F1 score = 0.998704008092047\n",
            "F1 score = 0.9984981899236448\n",
            "F1 score = 0.9986250928457417\n",
            "F1 score = 0.9985143037774618\n",
            "F1 score = 0.9984985696900731\n",
            "F1 score = 0.9984511316222026\n",
            "F1 score = 0.9980713292019728\n",
            "F1 score = 0.9979923805308336\n",
            "F1 score = 0.9980714511539678\n",
            "F1 score = 0.9981822492689482\n",
            "F1 score = 0.9981661818641709\n",
            "F1 score = 0.9984194221407348\n",
            "F1 score = 0.9980238091473922\n",
            "F1 score = 0.998055428201034\n",
            "F1 score = 0.9979291484215685\n",
            "F1 score = 0.9979925709317948\n"
          ],
          "name": "stdout"
        }
      ]
    },
    {
      "cell_type": "code",
      "metadata": {
        "id": "GHnxPxSyRVqg",
        "colab_type": "code",
        "outputId": "65f53a31-7ec5-4697-e42d-2e851b660c9d",
        "colab": {
          "base_uri": "https://localhost:8080/",
          "height": 1000
        }
      },
      "source": [
        "fine = ['Destination Port','Source Port','udp_Length','Length','FPL','Time to live','APL','Time','BytesTotal','Sequence number','Protocol_2','Next sequence number','TCP Segment Len','IOPR','StdDevLen',\n",
        "     'IP_Flags','tcp_Flags','SameLenPktRatio','NumForward','Forward','BitsPerSec','IAT','Total','Duration','NumPackets','AvgPktPerSec','isNull','NPEx','reconnects']\n",
        "\n",
        "for i in range(len(fine)):\n",
        "  i=i+1\n",
        "  print(i)\n",
        "  b= fine[0:i]\n",
        "  print(b)"
      ],
      "execution_count": 0,
      "outputs": [
        {
          "output_type": "stream",
          "text": [
            "1\n",
            "['Destination Port']\n",
            "2\n",
            "['Destination Port', 'Source Port']\n",
            "3\n",
            "['Destination Port', 'Source Port', 'udp_Length']\n",
            "4\n",
            "['Destination Port', 'Source Port', 'udp_Length', 'Length']\n",
            "5\n",
            "['Destination Port', 'Source Port', 'udp_Length', 'Length', 'FPL']\n",
            "6\n",
            "['Destination Port', 'Source Port', 'udp_Length', 'Length', 'FPL', 'Time to live']\n",
            "7\n",
            "['Destination Port', 'Source Port', 'udp_Length', 'Length', 'FPL', 'Time to live', 'APL']\n",
            "8\n",
            "['Destination Port', 'Source Port', 'udp_Length', 'Length', 'FPL', 'Time to live', 'APL', 'Time']\n",
            "9\n",
            "['Destination Port', 'Source Port', 'udp_Length', 'Length', 'FPL', 'Time to live', 'APL', 'Time', 'BytesTotal']\n",
            "10\n",
            "['Destination Port', 'Source Port', 'udp_Length', 'Length', 'FPL', 'Time to live', 'APL', 'Time', 'BytesTotal', 'Sequence number']\n",
            "11\n",
            "['Destination Port', 'Source Port', 'udp_Length', 'Length', 'FPL', 'Time to live', 'APL', 'Time', 'BytesTotal', 'Sequence number', 'Protocol_2']\n",
            "12\n",
            "['Destination Port', 'Source Port', 'udp_Length', 'Length', 'FPL', 'Time to live', 'APL', 'Time', 'BytesTotal', 'Sequence number', 'Protocol_2', 'Next sequence number']\n",
            "13\n",
            "['Destination Port', 'Source Port', 'udp_Length', 'Length', 'FPL', 'Time to live', 'APL', 'Time', 'BytesTotal', 'Sequence number', 'Protocol_2', 'Next sequence number', 'TCP Segment Len']\n",
            "14\n",
            "['Destination Port', 'Source Port', 'udp_Length', 'Length', 'FPL', 'Time to live', 'APL', 'Time', 'BytesTotal', 'Sequence number', 'Protocol_2', 'Next sequence number', 'TCP Segment Len', 'IOPR']\n",
            "15\n",
            "['Destination Port', 'Source Port', 'udp_Length', 'Length', 'FPL', 'Time to live', 'APL', 'Time', 'BytesTotal', 'Sequence number', 'Protocol_2', 'Next sequence number', 'TCP Segment Len', 'IOPR', 'StdDevLen']\n",
            "16\n",
            "['Destination Port', 'Source Port', 'udp_Length', 'Length', 'FPL', 'Time to live', 'APL', 'Time', 'BytesTotal', 'Sequence number', 'Protocol_2', 'Next sequence number', 'TCP Segment Len', 'IOPR', 'StdDevLen', 'IP_Flags']\n",
            "17\n",
            "['Destination Port', 'Source Port', 'udp_Length', 'Length', 'FPL', 'Time to live', 'APL', 'Time', 'BytesTotal', 'Sequence number', 'Protocol_2', 'Next sequence number', 'TCP Segment Len', 'IOPR', 'StdDevLen', 'IP_Flags', 'tcp_Flags']\n",
            "18\n",
            "['Destination Port', 'Source Port', 'udp_Length', 'Length', 'FPL', 'Time to live', 'APL', 'Time', 'BytesTotal', 'Sequence number', 'Protocol_2', 'Next sequence number', 'TCP Segment Len', 'IOPR', 'StdDevLen', 'IP_Flags', 'tcp_Flags', 'SameLenPktRatio']\n",
            "19\n",
            "['Destination Port', 'Source Port', 'udp_Length', 'Length', 'FPL', 'Time to live', 'APL', 'Time', 'BytesTotal', 'Sequence number', 'Protocol_2', 'Next sequence number', 'TCP Segment Len', 'IOPR', 'StdDevLen', 'IP_Flags', 'tcp_Flags', 'SameLenPktRatio', 'NumForward']\n",
            "20\n",
            "['Destination Port', 'Source Port', 'udp_Length', 'Length', 'FPL', 'Time to live', 'APL', 'Time', 'BytesTotal', 'Sequence number', 'Protocol_2', 'Next sequence number', 'TCP Segment Len', 'IOPR', 'StdDevLen', 'IP_Flags', 'tcp_Flags', 'SameLenPktRatio', 'NumForward', 'Forward']\n",
            "21\n",
            "['Destination Port', 'Source Port', 'udp_Length', 'Length', 'FPL', 'Time to live', 'APL', 'Time', 'BytesTotal', 'Sequence number', 'Protocol_2', 'Next sequence number', 'TCP Segment Len', 'IOPR', 'StdDevLen', 'IP_Flags', 'tcp_Flags', 'SameLenPktRatio', 'NumForward', 'Forward', 'BitsPerSec']\n",
            "22\n",
            "['Destination Port', 'Source Port', 'udp_Length', 'Length', 'FPL', 'Time to live', 'APL', 'Time', 'BytesTotal', 'Sequence number', 'Protocol_2', 'Next sequence number', 'TCP Segment Len', 'IOPR', 'StdDevLen', 'IP_Flags', 'tcp_Flags', 'SameLenPktRatio', 'NumForward', 'Forward', 'BitsPerSec', 'IAT']\n",
            "23\n",
            "['Destination Port', 'Source Port', 'udp_Length', 'Length', 'FPL', 'Time to live', 'APL', 'Time', 'BytesTotal', 'Sequence number', 'Protocol_2', 'Next sequence number', 'TCP Segment Len', 'IOPR', 'StdDevLen', 'IP_Flags', 'tcp_Flags', 'SameLenPktRatio', 'NumForward', 'Forward', 'BitsPerSec', 'IAT', 'Total']\n",
            "24\n",
            "['Destination Port', 'Source Port', 'udp_Length', 'Length', 'FPL', 'Time to live', 'APL', 'Time', 'BytesTotal', 'Sequence number', 'Protocol_2', 'Next sequence number', 'TCP Segment Len', 'IOPR', 'StdDevLen', 'IP_Flags', 'tcp_Flags', 'SameLenPktRatio', 'NumForward', 'Forward', 'BitsPerSec', 'IAT', 'Total', 'Duration']\n",
            "25\n",
            "['Destination Port', 'Source Port', 'udp_Length', 'Length', 'FPL', 'Time to live', 'APL', 'Time', 'BytesTotal', 'Sequence number', 'Protocol_2', 'Next sequence number', 'TCP Segment Len', 'IOPR', 'StdDevLen', 'IP_Flags', 'tcp_Flags', 'SameLenPktRatio', 'NumForward', 'Forward', 'BitsPerSec', 'IAT', 'Total', 'Duration', 'NumPackets']\n",
            "26\n",
            "['Destination Port', 'Source Port', 'udp_Length', 'Length', 'FPL', 'Time to live', 'APL', 'Time', 'BytesTotal', 'Sequence number', 'Protocol_2', 'Next sequence number', 'TCP Segment Len', 'IOPR', 'StdDevLen', 'IP_Flags', 'tcp_Flags', 'SameLenPktRatio', 'NumForward', 'Forward', 'BitsPerSec', 'IAT', 'Total', 'Duration', 'NumPackets', 'AvgPktPerSec']\n",
            "27\n",
            "['Destination Port', 'Source Port', 'udp_Length', 'Length', 'FPL', 'Time to live', 'APL', 'Time', 'BytesTotal', 'Sequence number', 'Protocol_2', 'Next sequence number', 'TCP Segment Len', 'IOPR', 'StdDevLen', 'IP_Flags', 'tcp_Flags', 'SameLenPktRatio', 'NumForward', 'Forward', 'BitsPerSec', 'IAT', 'Total', 'Duration', 'NumPackets', 'AvgPktPerSec', 'isNull']\n",
            "28\n",
            "['Destination Port', 'Source Port', 'udp_Length', 'Length', 'FPL', 'Time to live', 'APL', 'Time', 'BytesTotal', 'Sequence number', 'Protocol_2', 'Next sequence number', 'TCP Segment Len', 'IOPR', 'StdDevLen', 'IP_Flags', 'tcp_Flags', 'SameLenPktRatio', 'NumForward', 'Forward', 'BitsPerSec', 'IAT', 'Total', 'Duration', 'NumPackets', 'AvgPktPerSec', 'isNull', 'NPEx']\n",
            "29\n",
            "['Destination Port', 'Source Port', 'udp_Length', 'Length', 'FPL', 'Time to live', 'APL', 'Time', 'BytesTotal', 'Sequence number', 'Protocol_2', 'Next sequence number', 'TCP Segment Len', 'IOPR', 'StdDevLen', 'IP_Flags', 'tcp_Flags', 'SameLenPktRatio', 'NumForward', 'Forward', 'BitsPerSec', 'IAT', 'Total', 'Duration', 'NumPackets', 'AvgPktPerSec', 'isNull', 'NPEx', 'reconnects']\n"
          ],
          "name": "stdout"
        }
      ]
    },
    {
      "cell_type": "code",
      "metadata": {
        "id": "x295hnhLNSjC",
        "colab_type": "code",
        "colab": {}
      },
      "source": [
        "import numpy as np\n",
        "X = np.asarray(df[['Destination Port', 'Source Port', 'udp_Length', 'Length', 'FPL', 'Time to live', 'APL', 'Time', 'BytesTotal', 'Sequence number']])\n",
        "y = np.asarray(df['isBot'])"
      ],
      "execution_count": 0,
      "outputs": []
    },
    {
      "cell_type": "code",
      "metadata": {
        "id": "epGpmoGINYlW",
        "colab_type": "code",
        "colab": {}
      },
      "source": [
        "from sklearn.model_selection import train_test_split\n",
        "X_train,X_test,y_train,y_test = train_test_split(X,y,test_size=0.3,random_state=0)"
      ],
      "execution_count": 0,
      "outputs": []
    },
    {
      "cell_type": "code",
      "metadata": {
        "id": "ZBO_dsl6NacW",
        "colab_type": "code",
        "outputId": "d4982e81-9e4a-438e-af06-21c4a240ccfa",
        "colab": {
          "base_uri": "https://localhost:8080/",
          "height": 34
        }
      },
      "source": [
        "from sklearn.metrics import f1_score\n",
        "from sklearn.ensemble import RandomForestClassifier\n",
        "rfc = RandomForestClassifier(n_estimators=40)\n",
        "rfc.fit(X_train,y_train)\n",
        "yhat = rfc.predict(X_test)\n",
        "print ('F1 score =', f1_score(y_test,yhat))"
      ],
      "execution_count": 0,
      "outputs": [
        {
          "output_type": "stream",
          "text": [
            "F1 score = 0.9988622716642437\n"
          ],
          "name": "stdout"
        }
      ]
    },
    {
      "cell_type": "code",
      "metadata": {
        "id": "aB4AhmYnS6Aj",
        "colab_type": "code",
        "outputId": "911c460c-5a00-479d-d6f3-1516d0c5428f",
        "colab": {
          "base_uri": "https://localhost:8080/",
          "height": 295
        }
      },
      "source": [
        "from sklearn.metrics import confusion_matrix\n",
        "import itertools\n",
        "import matplotlib.pyplot as plt\n",
        "\n",
        "def plot_confusion_matrix(cm, classes,\n",
        "                          normalize=False,\n",
        "                          title='Confusion matrix',\n",
        "                          cmap=plt.cm.Blues):\n",
        "    \n",
        "    plt.imshow(cm, interpolation='nearest', cmap=cmap)\n",
        "    plt.title(title)\n",
        "    plt.colorbar()\n",
        "    tick_marks = np.arange(len(classes))\n",
        "    plt.xticks(tick_marks, classes)\n",
        "    plt.yticks(tick_marks, classes)\n",
        "\n",
        "    fmt = '.2f' if normalize else 'd'\n",
        "    thresh = cm.max() / 2.\n",
        "    for i, j in itertools.product(range(cm.shape[0]), range(cm.shape[1])):\n",
        "        plt.text(j, i, format(cm[i, j], fmt),\n",
        "                 horizontalalignment=\"center\",\n",
        "                 color=\"black\" if cm[i, j] > thresh else \"black\")\n",
        "\n",
        "    plt.ylabel('True label')\n",
        "    plt.xlabel('Predicted label')\n",
        "\n",
        "plot_confusion_matrix(confusion_matrix(y_test,yhat), classes=['0','1'],normalize= False,  title='Confusion matrix')"
      ],
      "execution_count": 0,
      "outputs": [
        {
          "output_type": "display_data",
          "data": {
            "image/png": "[encoded data removed]",
            "text/plain": [
              "<Figure size 432x288 with 2 Axes>"
            ]
          },
          "metadata": {
            "tags": []
          }
        }
      ]
    },
    {
      "cell_type": "code",
      "metadata": {
        "id": "hso2vKrkNcgq",
        "colab_type": "code",
        "outputId": "fc69e011-c182-4b76-dec7-55868d8f79e4",
        "colab": {
          "base_uri": "https://localhost:8080/",
          "height": 170
        }
      },
      "source": [
        "from sklearn.metrics import classification_report\n",
        "yhat = rfc.predict(X_test) \n",
        "print(classification_report(y_test,yhat,labels=[0,1]))"
      ],
      "execution_count": 0,
      "outputs": [
        {
          "output_type": "stream",
          "text": [
            "              precision    recall  f1-score   support\n",
            "\n",
            "           0       1.00      1.00      1.00   1791585\n",
            "           1       1.00      1.00      1.00     31653\n",
            "\n",
            "    accuracy                           1.00   1823238\n",
            "   macro avg       1.00      1.00      1.00   1823238\n",
            "weighted avg       1.00      1.00      1.00   1823238\n",
            "\n"
          ],
          "name": "stdout"
        }
      ]
    },
    {
      "cell_type": "code",
      "metadata": {
        "id": "1BEtyRj8Nj-i",
        "colab_type": "code",
        "outputId": "8b575288-3202-449b-9711-01a6392fb968",
        "colab": {
          "base_uri": "https://localhost:8080/",
          "height": 88
        }
      },
      "source": [
        "from sklearn.externals import joblib \n",
        "joblib.dump(rfc,'/content/gdrive/My Drive/ctuCsv/rfcBotreduceft.pkl') "
      ],
      "execution_count": 0,
      "outputs": [
        {
          "output_type": "stream",
          "text": [
            "/usr/local/lib/python3.6/dist-packages/sklearn/externals/joblib/__init__.py:15: DeprecationWarning: sklearn.externals.joblib is deprecated in 0.21 and will be removed in 0.23. Please import this functionality directly from joblib, which can be installed with: pip install joblib. If this warning is raised when loading pickled models, you may need to re-serialize those models with scikit-learn 0.21+.\n",
            "  warnings.warn(msg, category=DeprecationWarning)\n"
          ],
          "name": "stderr"
        },
        {
          "output_type": "execute_result",
          "data": {
            "text/plain": [
              "['/content/gdrive/My Drive/ctuCsv/rfcBotreduceft.pkl']"
            ]
          },
          "metadata": {
            "tags": []
          },
          "execution_count": 77
        }
      ]
    },
    {
      "cell_type": "code",
      "metadata": {
        "id": "G44CK1GwNnPj",
        "colab_type": "code",
        "outputId": "8dcb0c4d-f643-4c3b-e362-b6724ddd0a32",
        "colab": {
          "base_uri": "https://localhost:8080/",
          "height": 496
        }
      },
      "source": [
        "import pandas as pd \n",
        "dtest = pd.read_csv('/content/gdrive/My Drive/ctuCsv/groupby162.csv')\n",
        "dtest.head()"
      ],
      "execution_count": 0,
      "outputs": [
        {
          "output_type": "execute_result",
          "data": {
            "text/html": [
              "<div>\n",
              "<style scoped>\n",
              "    .dataframe tbody tr th:only-of-type {\n",
              "        vertical-align: middle;\n",
              "    }\n",
              "\n",
              "    .dataframe tbody tr th {\n",
              "        vertical-align: top;\n",
              "    }\n",
              "\n",
              "    .dataframe thead th {\n",
              "        text-align: right;\n",
              "    }\n",
              "</style>\n",
              "<table border=\"1\" class=\"dataframe\">\n",
              "  <thead>\n",
              "    <tr style=\"text-align: right;\">\n",
              "      <th></th>\n",
              "      <th>Flow id</th>\n",
              "      <th>No.</th>\n",
              "      <th>Time</th>\n",
              "      <th>Source</th>\n",
              "      <th>Destination</th>\n",
              "      <th>Protocol</th>\n",
              "      <th>Length</th>\n",
              "      <th>Source Port</th>\n",
              "      <th>Destination Port</th>\n",
              "      <th>Protocols in frame</th>\n",
              "      <th>Time to live</th>\n",
              "      <th>udp_Length</th>\n",
              "      <th>IP_Flags</th>\n",
              "      <th>Sequence number</th>\n",
              "      <th>Next sequence number</th>\n",
              "      <th>TCP Segment Len</th>\n",
              "      <th>tcp_Flags</th>\n",
              "      <th>isBot</th>\n",
              "      <th>Flow name</th>\n",
              "      <th>NumForward</th>\n",
              "      <th>Forward</th>\n",
              "      <th>IOPR</th>\n",
              "      <th>Total</th>\n",
              "      <th>FPL</th>\n",
              "      <th>NumPackets</th>\n",
              "      <th>BytesTotal</th>\n",
              "      <th>StdDevLen</th>\n",
              "      <th>SameLenPktRatio</th>\n",
              "      <th>Duration</th>\n",
              "      <th>AvgPktPerSec</th>\n",
              "      <th>BitsPerSec</th>\n",
              "      <th>APL</th>\n",
              "      <th>IAT</th>\n",
              "      <th>isNull</th>\n",
              "      <th>NPEx</th>\n",
              "      <th>reconnects</th>\n",
              "    </tr>\n",
              "  </thead>\n",
              "  <tbody>\n",
              "    <tr>\n",
              "      <th>0</th>\n",
              "      <td>2578261</td>\n",
              "      <td>4942135</td>\n",
              "      <td>823.019</td>\n",
              "      <td>46.4.84.230</td>\n",
              "      <td>147.32.84.59</td>\n",
              "      <td>UDP</td>\n",
              "      <td>1083</td>\n",
              "      <td>54012</td>\n",
              "      <td>7525</td>\n",
              "      <td>eth:ethertype:ip:udp:wol</td>\n",
              "      <td>54</td>\n",
              "      <td>1049.0</td>\n",
              "      <td>0x4000</td>\n",
              "      <td>NaN</td>\n",
              "      <td>NaN</td>\n",
              "      <td>NaN</td>\n",
              "      <td>0</td>\n",
              "      <td>0</td>\n",
              "      <td>46.4.84.230-147.32.84.59-54012-7525-UDP</td>\n",
              "      <td>1</td>\n",
              "      <td>1</td>\n",
              "      <td>0.0</td>\n",
              "      <td>1</td>\n",
              "      <td>1083</td>\n",
              "      <td>1</td>\n",
              "      <td>1083</td>\n",
              "      <td>0.0</td>\n",
              "      <td>1.0</td>\n",
              "      <td>0.0</td>\n",
              "      <td>0.0</td>\n",
              "      <td>0.0</td>\n",
              "      <td>1083.0</td>\n",
              "      <td>0.0</td>\n",
              "      <td>0</td>\n",
              "      <td>0</td>\n",
              "      <td>0</td>\n",
              "    </tr>\n",
              "    <tr>\n",
              "      <th>1</th>\n",
              "      <td>922661</td>\n",
              "      <td>2065098</td>\n",
              "      <td>272.037</td>\n",
              "      <td>147.32.84.94</td>\n",
              "      <td>176.9.0.180</td>\n",
              "      <td>UDP</td>\n",
              "      <td>60</td>\n",
              "      <td>7103</td>\n",
              "      <td>52012</td>\n",
              "      <td>eth:ethertype:ip:udp:lbtrm</td>\n",
              "      <td>63</td>\n",
              "      <td>16.0</td>\n",
              "      <td>0x4000</td>\n",
              "      <td>NaN</td>\n",
              "      <td>NaN</td>\n",
              "      <td>NaN</td>\n",
              "      <td>0</td>\n",
              "      <td>0</td>\n",
              "      <td>176.9.0.180-147.32.84.94-52012-7103-UDP</td>\n",
              "      <td>0</td>\n",
              "      <td>0</td>\n",
              "      <td>-1.0</td>\n",
              "      <td>1</td>\n",
              "      <td>60</td>\n",
              "      <td>1</td>\n",
              "      <td>60</td>\n",
              "      <td>0.0</td>\n",
              "      <td>1.0</td>\n",
              "      <td>0.0</td>\n",
              "      <td>0.0</td>\n",
              "      <td>0.0</td>\n",
              "      <td>60.0</td>\n",
              "      <td>0.0</td>\n",
              "      <td>0</td>\n",
              "      <td>0</td>\n",
              "      <td>0</td>\n",
              "    </tr>\n",
              "    <tr>\n",
              "      <th>2</th>\n",
              "      <td>3159587</td>\n",
              "      <td>6014109</td>\n",
              "      <td>1007.610</td>\n",
              "      <td>147.32.84.59</td>\n",
              "      <td>188.40.116.162</td>\n",
              "      <td>UDP</td>\n",
              "      <td>1082</td>\n",
              "      <td>7525</td>\n",
              "      <td>50012</td>\n",
              "      <td>eth:ethertype:ip:udp:wol</td>\n",
              "      <td>62</td>\n",
              "      <td>1048.0</td>\n",
              "      <td>0x4000</td>\n",
              "      <td>NaN</td>\n",
              "      <td>NaN</td>\n",
              "      <td>NaN</td>\n",
              "      <td>0</td>\n",
              "      <td>0</td>\n",
              "      <td>188.40.116.162-147.32.84.59-50012-7525-UDP</td>\n",
              "      <td>0</td>\n",
              "      <td>0</td>\n",
              "      <td>-1.0</td>\n",
              "      <td>1</td>\n",
              "      <td>1082</td>\n",
              "      <td>1</td>\n",
              "      <td>1082</td>\n",
              "      <td>0.0</td>\n",
              "      <td>1.0</td>\n",
              "      <td>0.0</td>\n",
              "      <td>0.0</td>\n",
              "      <td>0.0</td>\n",
              "      <td>1082.0</td>\n",
              "      <td>0.0</td>\n",
              "      <td>0</td>\n",
              "      <td>0</td>\n",
              "      <td>0</td>\n",
              "    </tr>\n",
              "    <tr>\n",
              "      <th>3</th>\n",
              "      <td>455697</td>\n",
              "      <td>1004056</td>\n",
              "      <td>100.024</td>\n",
              "      <td>125.228.221.40</td>\n",
              "      <td>147.32.84.94</td>\n",
              "      <td>UDP</td>\n",
              "      <td>78</td>\n",
              "      <td>7191</td>\n",
              "      <td>7103</td>\n",
              "      <td>eth:ethertype:ip:udp:rtps</td>\n",
              "      <td>106</td>\n",
              "      <td>44.0</td>\n",
              "      <td>0x0000</td>\n",
              "      <td>NaN</td>\n",
              "      <td>NaN</td>\n",
              "      <td>NaN</td>\n",
              "      <td>0</td>\n",
              "      <td>0</td>\n",
              "      <td>147.32.84.94-125.228.221.40-7103-7191-UDP</td>\n",
              "      <td>0</td>\n",
              "      <td>0</td>\n",
              "      <td>-1.0</td>\n",
              "      <td>1</td>\n",
              "      <td>78</td>\n",
              "      <td>1</td>\n",
              "      <td>78</td>\n",
              "      <td>0.0</td>\n",
              "      <td>1.0</td>\n",
              "      <td>0.0</td>\n",
              "      <td>0.0</td>\n",
              "      <td>0.0</td>\n",
              "      <td>78.0</td>\n",
              "      <td>0.0</td>\n",
              "      <td>0</td>\n",
              "      <td>0</td>\n",
              "      <td>0</td>\n",
              "    </tr>\n",
              "    <tr>\n",
              "      <th>4</th>\n",
              "      <td>1032731</td>\n",
              "      <td>2250943</td>\n",
              "      <td>308.973</td>\n",
              "      <td>147.32.84.59</td>\n",
              "      <td>188.40.113.241</td>\n",
              "      <td>UDP</td>\n",
              "      <td>1083</td>\n",
              "      <td>7525</td>\n",
              "      <td>50012</td>\n",
              "      <td>eth:ethertype:ip:udp:wol</td>\n",
              "      <td>62</td>\n",
              "      <td>1049.0</td>\n",
              "      <td>0x4000</td>\n",
              "      <td>NaN</td>\n",
              "      <td>NaN</td>\n",
              "      <td>NaN</td>\n",
              "      <td>0</td>\n",
              "      <td>0</td>\n",
              "      <td>188.40.113.241-147.32.84.59-50012-7525-UDP</td>\n",
              "      <td>0</td>\n",
              "      <td>0</td>\n",
              "      <td>-1.0</td>\n",
              "      <td>1</td>\n",
              "      <td>1083</td>\n",
              "      <td>1</td>\n",
              "      <td>1083</td>\n",
              "      <td>0.0</td>\n",
              "      <td>1.0</td>\n",
              "      <td>0.0</td>\n",
              "      <td>0.0</td>\n",
              "      <td>0.0</td>\n",
              "      <td>1083.0</td>\n",
              "      <td>0.0</td>\n",
              "      <td>0</td>\n",
              "      <td>0</td>\n",
              "      <td>0</td>\n",
              "    </tr>\n",
              "  </tbody>\n",
              "</table>\n",
              "</div>"
            ],
            "text/plain": [
              "   Flow id      No.      Time          Source  ...  IAT isNull  NPEx  reconnects\n",
              "0  2578261  4942135   823.019     46.4.84.230  ...  0.0      0     0           0\n",
              "1   922661  2065098   272.037    147.32.84.94  ...  0.0      0     0           0\n",
              "2  3159587  6014109  1007.610    147.32.84.59  ...  0.0      0     0           0\n",
              "3   455697  1004056   100.024  125.228.221.40  ...  0.0      0     0           0\n",
              "4  1032731  2250943   308.973    147.32.84.59  ...  0.0      0     0           0\n",
              "\n",
              "[5 rows x 36 columns]"
            ]
          },
          "metadata": {
            "tags": []
          },
          "execution_count": 2
        }
      ]
    },
    {
      "cell_type": "code",
      "metadata": {
        "id": "KItuWAPzhHez",
        "colab_type": "code",
        "colab": {}
      },
      "source": [
        "dtest = dtest.sort_values(by=['Flow id']).reset_index(drop=True)"
      ],
      "execution_count": 0,
      "outputs": []
    },
    {
      "cell_type": "code",
      "metadata": {
        "id": "X9ZJQqZHCTAM",
        "colab_type": "code",
        "colab": {}
      },
      "source": [
        "# aa=dtest[dtest['isBot']==1].groupby('Predict_label')\n",
        "# aa.head()\n"
      ],
      "execution_count": 0,
      "outputs": []
    },
    {
      "cell_type": "code",
      "metadata": {
        "id": "-NBpky8RIFea",
        "colab_type": "code",
        "colab": {}
      },
      "source": [
        "# a=dtest[dtest['isBot']==0].groupby('Predict_label')\n",
        "# a.head()"
      ],
      "execution_count": 0,
      "outputs": []
    },
    {
      "cell_type": "code",
      "metadata": {
        "id": "t4tqIshLNqU6",
        "colab_type": "code",
        "colab": {}
      },
      "source": [
        "from sklearn import preprocessing\n",
        "num = preprocessing.LabelEncoder()\n",
        "\n",
        "num.fit(['NBNS', 'SMB', 'PKIX-CRL', 'TCP', 'SIP', 'BROWSER', 'SMTP|IMF', 'SMTP', 'DNS', 'HTTP/XML', 'SSDP', 'SNMP', 'PKTC', 'Laplink', 'IRC', 'UDP', 'SSL', 'ICMP', 'NBSS', 'Socks', 'DCERPC', 'LANMAN', 'HTTP', 'SSLv2', 'TLSv1'])\n",
        "dtest['Protocol_2']=num.fit_transform(dtest['Protocol']).astype('int')"
      ],
      "execution_count": 0,
      "outputs": []
    },
    {
      "cell_type": "code",
      "metadata": {
        "id": "XrfOnhz0SiEY",
        "colab_type": "code",
        "colab": {}
      },
      "source": [
        "dtest['IP_Flags'] = dtest['IP_Flags'].apply(lambda x:int(x,16) if x!='' else 0)"
      ],
      "execution_count": 0,
      "outputs": []
    },
    {
      "cell_type": "code",
      "metadata": {
        "id": "MgcmU_uXSn0W",
        "colab_type": "code",
        "colab": {}
      },
      "source": [
        "dtest = dtest.fillna(-1)"
      ],
      "execution_count": 0,
      "outputs": []
    },
    {
      "cell_type": "code",
      "metadata": {
        "id": "SSHQs2W4jr3O",
        "colab_type": "code",
        "colab": {}
      },
      "source": [
        "df['dataff']=1\n",
        "dtest['dataff']=2"
      ],
      "execution_count": 0,
      "outputs": []
    },
    {
      "cell_type": "code",
      "metadata": {
        "id": "MGSCSk_NYYm6",
        "colab_type": "code",
        "colab": {}
      },
      "source": [
        "frames = [df,dtest]\n",
        "\n",
        "result = pd.concat(frames)"
      ],
      "execution_count": 0,
      "outputs": []
    },
    {
      "cell_type": "code",
      "metadata": {
        "id": "lv_Io8zUYjU4",
        "colab_type": "code",
        "outputId": "6f5e8b12-ba96-4d91-d5da-4bfdd8834777",
        "colab": {
          "base_uri": "https://localhost:8080/",
          "height": 71
        }
      },
      "source": [
        "result[result['APL']=='APL'].head()"
      ],
      "execution_count": 0,
      "outputs": [
        {
          "output_type": "stream",
          "text": [
            "/usr/local/lib/python3.6/dist-packages/pandas/core/ops/__init__.py:1115: FutureWarning: elementwise comparison failed; returning scalar instead, but in the future will perform elementwise comparison\n",
            "  result = method(y)\n"
          ],
          "name": "stderr"
        }
      ]
    },
    {
      "cell_type": "code",
      "metadata": {
        "id": "5GZmQ8VJQEN-",
        "colab_type": "code",
        "colab": {}
      },
      "source": [
        "import numpy as np\n",
        "from sklearn.model_selection import train_test_split\n",
        "X = np.asarray(dtest[['Destination Port', 'Source Port', 'udp_Length', 'Length', 'FPL', 'Time to live', 'APL', 'Time', 'BytesTotal', 'Sequence number']])\n",
        "y = np.asarray(dtest['isBot'])\n",
        "X_train,X_test,y_train,y_test = train_test_split(X,y,test_size=0.3,random_state=0)"
      ],
      "execution_count": 0,
      "outputs": []
    },
    {
      "cell_type": "code",
      "metadata": {
        "id": "DYt5nDuYNvHv",
        "colab_type": "code",
        "outputId": "3152fa15-3ff9-4d27-f0a0-3e768068cf1d",
        "colab": {
          "base_uri": "https://localhost:8080/",
          "height": 88
        }
      },
      "source": [
        "from sklearn.metrics import classification_report\n",
        "import numpy as np\n",
        "from sklearn.model_selection import train_test_split\n",
        "from sklearn.externals import joblib \n",
        "from sklearn.metrics import f1_score\n",
        "from sklearn.ensemble import RandomForestClassifier\n",
        "X = np.asarray(result[['Destination Port', 'Source Port', 'udp_Length', 'Length', 'FPL', 'Time to live', 'APL', 'Time', 'BytesTotal', 'Sequence number']])\n",
        "y = np.asarray(result['isBot'])\n",
        "rfc = RandomForestClassifier(n_estimators=40) \n",
        "X_train,X_test,y_train,y_test = train_test_split(X,y,test_size=0.3,random_state=0)\n",
        "rfc.fit(X_train,y_train)\n",
        "yhat = rfc.predict(X_test)\n",
        "print ('F1 score =', f1_score(y_test,yhat))\n",
        "\n",
        "# # Use the loaded model to make predictions \n",
        "# yhat2 = rfc_from_joblib.predict(X) \n",
        "# result[\"Predict_label\"]  = yhat2\n",
        "# print(classification_report(result['isBot'],result[\"Predict_label\"],labels=[0,1]))\n",
        "\n"
      ],
      "execution_count": 0,
      "outputs": [
        {
          "output_type": "stream",
          "text": [
            "/usr/local/lib/python3.6/dist-packages/sklearn/externals/joblib/__init__.py:15: DeprecationWarning: sklearn.externals.joblib is deprecated in 0.21 and will be removed in 0.23. Please import this functionality directly from joblib, which can be installed with: pip install joblib. If this warning is raised when loading pickled models, you may need to re-serialize those models with scikit-learn 0.21+.\n",
            "  warnings.warn(msg, category=DeprecationWarning)\n"
          ],
          "name": "stderr"
        },
        {
          "output_type": "stream",
          "text": [
            "F1 score = 0.9983445891504665\n"
          ],
          "name": "stdout"
        }
      ]
    },
    {
      "cell_type": "code",
      "metadata": {
        "id": "bJ8Bnq2PGtZf",
        "colab_type": "code",
        "outputId": "d56f2090-bee9-43f5-d79a-f91a2f0566e1",
        "colab": {
          "base_uri": "https://localhost:8080/",
          "height": 34
        }
      },
      "source": [
        "d = ['Destination Port','Source Port','udp_Length','Length','FPL','Time to live','APL','Time','BytesTotal','Sequence number','Protocol_2','Next sequence number','TCP Segment Len','IOPR','StdDevLen',\n",
        "     'IP_Flags','tcp_Flags','SameLenPktRatio','NumForward','Forward','BitsPerSec','IAT','Total','Duration','NumPackets','AvgPktPerSec','isNull','NPEx','reconnects']\n",
        "dii = []\n",
        "a=range(0,28)\n",
        "dii = dict(zip(a,d))\n",
        "print(dii[0])"
      ],
      "execution_count": 0,
      "outputs": [
        {
          "output_type": "stream",
          "text": [
            "Destination Port\n"
          ],
          "name": "stdout"
        }
      ]
    },
    {
      "cell_type": "code",
      "metadata": {
        "id": "JKPHKWuPt07r",
        "colab_type": "code",
        "outputId": "ed4c7db3-edf2-4496-e207-5c52444255f8",
        "colab": {
          "base_uri": "https://localhost:8080/",
          "height": 295
        }
      },
      "source": [
        "from sklearn.metrics import confusion_matrix\n",
        "import itertools\n",
        "import matplotlib.pyplot as plt\n",
        "\n",
        "def plot_confusion_matrix(cm, classes,\n",
        "                          normalize=False,\n",
        "                          title='Confusion matrix',\n",
        "                          cmap=plt.cm.Blues):\n",
        "    \n",
        "    plt.imshow(cm, interpolation='nearest', cmap=cmap)\n",
        "    plt.title(title)\n",
        "    plt.colorbar()\n",
        "    tick_marks = np.arange(len(classes))\n",
        "    plt.xticks(tick_marks, classes)\n",
        "    plt.yticks(tick_marks, classes)\n",
        "\n",
        "    fmt = '.2f' if normalize else 'd'\n",
        "    thresh = cm.max() / 2.\n",
        "    for i, j in itertools.product(range(cm.shape[0]), range(cm.shape[1])):\n",
        "        plt.text(j, i, format(cm[i, j], fmt),\n",
        "                 horizontalalignment=\"center\",\n",
        "                 color=\"black\" if cm[i, j] > thresh else \"black\")\n",
        "\n",
        "    plt.ylabel('True label')\n",
        "    plt.xlabel('Predicted label')\n",
        "\n",
        "plot_confusion_matrix(confusion_matrix(y_test,yhat), classes=['0','1'],normalize= False,  title='Confusion matrix')"
      ],
      "execution_count": 0,
      "outputs": [
        {
          "output_type": "display_data",
          "data": {
            "image/png": "[encoded data removed]",
            "text/plain": [
              "<Figure size 432x288 with 2 Axes>"
            ]
          },
          "metadata": {
            "tags": []
          }
        }
      ]
    },
    {
      "cell_type": "code",
      "metadata": {
        "id": "dutC6w4mZrHS",
        "colab_type": "code",
        "colab": {}
      },
      "source": [
        "result.to_csv(r'/content/gdrive/My Drive/ctuCsv/finalPredictyesssss',index = None , header = True)"
      ],
      "execution_count": 0,
      "outputs": []
    },
    {
      "cell_type": "code",
      "metadata": {
        "id": "AEo0jpqwb1Fb",
        "colab_type": "code",
        "outputId": "bf5b9c26-c41b-48bd-b8f5-2ebc87211098",
        "colab": {
          "base_uri": "https://localhost:8080/",
          "height": 102
        }
      },
      "source": [
        "from sklearn.metrics import f1_score\n",
        "from sklearn.linear_model import LogisticRegression\n",
        "from sklearn.svm import SVC\n",
        "from sklearn.tree import DecisionTreeClassifier\n",
        "from sklearn.ensemble import RandomForestClassifier\n",
        "\n",
        "lr = LogisticRegression(C=1, solver='lbfgs')\n",
        "# clf = SVC(kernel='rbf', gamma='auto')\n",
        "dtree = DecisionTreeClassifier(criterion=\"entropy\", max_depth=4)\n",
        "rfc = RandomForestClassifier(n_estimators=40)\n",
        "\n",
        "def scorer(i,j,k,):\n",
        "    for every in (i,j,k,):\n",
        "        every.fit(X_train,y_train)\n",
        "        print (every.__class__.__name__, 'F1 score =', f1_score(y_test,every.predict(X_test)))\n",
        "scorer (lr,dtree,rfc)"
      ],
      "execution_count": 0,
      "outputs": [
        {
          "output_type": "stream",
          "text": [
            "/usr/local/lib/python3.6/dist-packages/sklearn/linear_model/logistic.py:947: ConvergenceWarning: lbfgs failed to converge. Increase the number of iterations.\n",
            "  \"of iterations.\", ConvergenceWarning)\n"
          ],
          "name": "stderr"
        },
        {
          "output_type": "stream",
          "text": [
            "LogisticRegression F1 score = 0.06353246493986126\n",
            "DecisionTreeClassifier F1 score = 0.7226003798383167\n",
            "RandomForestClassifier F1 score = 0.9988780911748439\n"
          ],
          "name": "stdout"
        }
      ]
    },
    {
      "cell_type": "code",
      "metadata": {
        "id": "Tn8pTgtyZRgR",
        "colab_type": "code",
        "colab": {}
      },
      "source": [
        "from sklearn.metrics import f1_score\n",
        "from sklearn.svm import SVC\n",
        "clf = SVC(kernel='rbf', gamma='auto')\n",
        "clf.fit(X_train,y_train)\n",
        "print ('F1 score =', f1_score(y_test,predict(X_test)))"
      ],
      "execution_count": 0,
      "outputs": []
    },
    {
      "cell_type": "code",
      "metadata": {
        "id": "5EJC9VrJaG-9",
        "colab_type": "code",
        "outputId": "f203d7c5-c024-4798-f3f6-6a93c313bb04",
        "colab": {
          "base_uri": "https://localhost:8080/",
          "height": 68
        }
      },
      "source": [
        "print(len(df))\n",
        "print(len(dtest))\n",
        "print(len(result))"
      ],
      "execution_count": 0,
      "outputs": [
        {
          "output_type": "stream",
          "text": [
            "6077459\n",
            "4012691\n",
            "10090150\n"
          ],
          "name": "stdout"
        }
      ]
    },
    {
      "cell_type": "code",
      "metadata": {
        "id": "1cl7TAU7cd4M",
        "colab_type": "code",
        "outputId": "63128ddc-8571-4f62-868b-e0e2a2f5b1dc",
        "colab": {
          "base_uri": "https://localhost:8080/",
          "height": 163
        }
      },
      "source": [
        "print(yhat=1)"
      ],
      "execution_count": 0,
      "outputs": [
        {
          "output_type": "error",
          "ename": "TypeError",
          "evalue": "ignored",
          "traceback": [
            "\u001b[0;31m---------------------------------------------------------------------------\u001b[0m",
            "\u001b[0;31mTypeError\u001b[0m                                 Traceback (most recent call last)",
            "\u001b[0;32m<ipython-input-24-90b1255e930b>\u001b[0m in \u001b[0;36m<module>\u001b[0;34m()\u001b[0m\n\u001b[0;32m----> 1\u001b[0;31m \u001b[0mprint\u001b[0m\u001b[0;34m(\u001b[0m\u001b[0myhat\u001b[0m\u001b[0;34m=\u001b[0m\u001b[0;36m1\u001b[0m\u001b[0;34m)\u001b[0m\u001b[0;34m\u001b[0m\u001b[0;34m\u001b[0m\u001b[0m\n\u001b[0m",
            "\u001b[0;31mTypeError\u001b[0m: 'yhat' is an invalid keyword argument for this function"
          ]
        }
      ]
    },
    {
      "cell_type": "code",
      "metadata": {
        "id": "8nAGFgQlW1u8",
        "colab_type": "code",
        "outputId": "515da823-97b2-4b86-fde9-9eb935ae7b7a",
        "colab": {
          "base_uri": "https://localhost:8080/",
          "height": 830
        }
      },
      "source": [
        "d = result[result.isBot == 1].groupby(['Source','Destination'])\n",
        "d.head()"
      ],
      "execution_count": 0,
      "outputs": [
        {
          "output_type": "execute_result",
          "data": {
            "text/html": [
              "<div>\n",
              "<style scoped>\n",
              "    .dataframe tbody tr th:only-of-type {\n",
              "        vertical-align: middle;\n",
              "    }\n",
              "\n",
              "    .dataframe tbody tr th {\n",
              "        vertical-align: top;\n",
              "    }\n",
              "\n",
              "    .dataframe thead th {\n",
              "        text-align: right;\n",
              "    }\n",
              "</style>\n",
              "<table border=\"1\" class=\"dataframe\">\n",
              "  <thead>\n",
              "    <tr style=\"text-align: right;\">\n",
              "      <th></th>\n",
              "      <th>Flow id</th>\n",
              "      <th>No.</th>\n",
              "      <th>Time</th>\n",
              "      <th>Source</th>\n",
              "      <th>Destination</th>\n",
              "      <th>Protocol</th>\n",
              "      <th>Length</th>\n",
              "      <th>Source Port</th>\n",
              "      <th>Destination Port</th>\n",
              "      <th>Protocols in frame</th>\n",
              "      <th>Time to live</th>\n",
              "      <th>udp_Length</th>\n",
              "      <th>IP_Flags</th>\n",
              "      <th>Sequence number</th>\n",
              "      <th>Next sequence number</th>\n",
              "      <th>TCP Segment Len</th>\n",
              "      <th>tcp_Flags</th>\n",
              "      <th>isBot</th>\n",
              "      <th>Flow name</th>\n",
              "      <th>NumForward</th>\n",
              "      <th>Forward</th>\n",
              "      <th>IOPR</th>\n",
              "      <th>Total</th>\n",
              "      <th>FPL</th>\n",
              "      <th>NumPackets</th>\n",
              "      <th>BytesTotal</th>\n",
              "      <th>StdDevLen</th>\n",
              "      <th>SameLenPktRatio</th>\n",
              "      <th>Duration</th>\n",
              "      <th>AvgPktPerSec</th>\n",
              "      <th>BitsPerSec</th>\n",
              "      <th>APL</th>\n",
              "      <th>IAT</th>\n",
              "      <th>isNull</th>\n",
              "      <th>NPEx</th>\n",
              "      <th>reconnects</th>\n",
              "      <th>Protocol_2</th>\n",
              "      <th>dataff</th>\n",
              "    </tr>\n",
              "  </thead>\n",
              "  <tbody>\n",
              "    <tr>\n",
              "      <th>291</th>\n",
              "      <td>291</td>\n",
              "      <td>710</td>\n",
              "      <td>0.35725</td>\n",
              "      <td>219.85.198.200</td>\n",
              "      <td>147.32.84.165</td>\n",
              "      <td>UDP</td>\n",
              "      <td>89</td>\n",
              "      <td>7600</td>\n",
              "      <td>7600</td>\n",
              "      <td>eth:ethertype:ip:udp:rtps</td>\n",
              "      <td>43</td>\n",
              "      <td>55.0</td>\n",
              "      <td>0</td>\n",
              "      <td>-1.0</td>\n",
              "      <td>-1.0</td>\n",
              "      <td>-1.0</td>\n",
              "      <td>0</td>\n",
              "      <td>1</td>\n",
              "      <td>219.85.198.200-147.32.84.165-7600-7600-UDP</td>\n",
              "      <td>1</td>\n",
              "      <td>1</td>\n",
              "      <td>0.0</td>\n",
              "      <td>1</td>\n",
              "      <td>89</td>\n",
              "      <td>1</td>\n",
              "      <td>89</td>\n",
              "      <td>0.0</td>\n",
              "      <td>1.0</td>\n",
              "      <td>0.0</td>\n",
              "      <td>0.0</td>\n",
              "      <td>0.0</td>\n",
              "      <td>89.0</td>\n",
              "      <td>0.0</td>\n",
              "      <td>0</td>\n",
              "      <td>0</td>\n",
              "      <td>0</td>\n",
              "      <td>57</td>\n",
              "      <td>1</td>\n",
              "    </tr>\n",
              "    <tr>\n",
              "      <th>13435</th>\n",
              "      <td>13435</td>\n",
              "      <td>29980</td>\n",
              "      <td>14.35580</td>\n",
              "      <td>119.224.98.51</td>\n",
              "      <td>147.32.84.165</td>\n",
              "      <td>UDP</td>\n",
              "      <td>89</td>\n",
              "      <td>63576</td>\n",
              "      <td>7600</td>\n",
              "      <td>eth:ethertype:ip:udp:rtps</td>\n",
              "      <td>50</td>\n",
              "      <td>55.0</td>\n",
              "      <td>0</td>\n",
              "      <td>-1.0</td>\n",
              "      <td>-1.0</td>\n",
              "      <td>-1.0</td>\n",
              "      <td>0</td>\n",
              "      <td>1</td>\n",
              "      <td>147.32.84.165-119.224.98.51-7600-63576-UDP</td>\n",
              "      <td>0</td>\n",
              "      <td>0</td>\n",
              "      <td>-1.0</td>\n",
              "      <td>1</td>\n",
              "      <td>89</td>\n",
              "      <td>1</td>\n",
              "      <td>89</td>\n",
              "      <td>0.0</td>\n",
              "      <td>1.0</td>\n",
              "      <td>0.0</td>\n",
              "      <td>0.0</td>\n",
              "      <td>0.0</td>\n",
              "      <td>89.0</td>\n",
              "      <td>0.0</td>\n",
              "      <td>0</td>\n",
              "      <td>0</td>\n",
              "      <td>0</td>\n",
              "      <td>57</td>\n",
              "      <td>1</td>\n",
              "    </tr>\n",
              "    <tr>\n",
              "      <th>17759</th>\n",
              "      <td>17759</td>\n",
              "      <td>39411</td>\n",
              "      <td>18.80270</td>\n",
              "      <td>119.224.98.51</td>\n",
              "      <td>147.32.84.165</td>\n",
              "      <td>UDP</td>\n",
              "      <td>89</td>\n",
              "      <td>63576</td>\n",
              "      <td>7600</td>\n",
              "      <td>eth:ethertype:ip:udp:rtps</td>\n",
              "      <td>50</td>\n",
              "      <td>55.0</td>\n",
              "      <td>0</td>\n",
              "      <td>-1.0</td>\n",
              "      <td>-1.0</td>\n",
              "      <td>-1.0</td>\n",
              "      <td>0</td>\n",
              "      <td>1</td>\n",
              "      <td>147.32.84.165-119.224.98.51-7600-63576-UDP</td>\n",
              "      <td>0</td>\n",
              "      <td>0</td>\n",
              "      <td>-1.0</td>\n",
              "      <td>1</td>\n",
              "      <td>89</td>\n",
              "      <td>1</td>\n",
              "      <td>89</td>\n",
              "      <td>0.0</td>\n",
              "      <td>1.0</td>\n",
              "      <td>0.0</td>\n",
              "      <td>0.0</td>\n",
              "      <td>0.0</td>\n",
              "      <td>89.0</td>\n",
              "      <td>0.0</td>\n",
              "      <td>0</td>\n",
              "      <td>0</td>\n",
              "      <td>0</td>\n",
              "      <td>57</td>\n",
              "      <td>1</td>\n",
              "    </tr>\n",
              "    <tr>\n",
              "      <th>29893</th>\n",
              "      <td>29893</td>\n",
              "      <td>64309</td>\n",
              "      <td>30.75450</td>\n",
              "      <td>175.180.240.104</td>\n",
              "      <td>147.32.84.165</td>\n",
              "      <td>UDP</td>\n",
              "      <td>89</td>\n",
              "      <td>7600</td>\n",
              "      <td>7600</td>\n",
              "      <td>eth:ethertype:ip:udp:rtps</td>\n",
              "      <td>108</td>\n",
              "      <td>55.0</td>\n",
              "      <td>0</td>\n",
              "      <td>-1.0</td>\n",
              "      <td>-1.0</td>\n",
              "      <td>-1.0</td>\n",
              "      <td>0</td>\n",
              "      <td>1</td>\n",
              "      <td>175.180.240.104-147.32.84.165-7600-7600-UDP</td>\n",
              "      <td>1</td>\n",
              "      <td>1</td>\n",
              "      <td>0.0</td>\n",
              "      <td>1</td>\n",
              "      <td>89</td>\n",
              "      <td>1</td>\n",
              "      <td>89</td>\n",
              "      <td>0.0</td>\n",
              "      <td>1.0</td>\n",
              "      <td>0.0</td>\n",
              "      <td>0.0</td>\n",
              "      <td>0.0</td>\n",
              "      <td>89.0</td>\n",
              "      <td>0.0</td>\n",
              "      <td>0</td>\n",
              "      <td>0</td>\n",
              "      <td>0</td>\n",
              "      <td>57</td>\n",
              "      <td>1</td>\n",
              "    </tr>\n",
              "    <tr>\n",
              "      <th>36413</th>\n",
              "      <td>36413</td>\n",
              "      <td>79142</td>\n",
              "      <td>37.18040</td>\n",
              "      <td>219.142.90.227</td>\n",
              "      <td>147.32.84.165</td>\n",
              "      <td>UDP</td>\n",
              "      <td>89</td>\n",
              "      <td>22155</td>\n",
              "      <td>7600</td>\n",
              "      <td>eth:ethertype:ip:udp:rtps</td>\n",
              "      <td>109</td>\n",
              "      <td>55.0</td>\n",
              "      <td>0</td>\n",
              "      <td>-1.0</td>\n",
              "      <td>-1.0</td>\n",
              "      <td>-1.0</td>\n",
              "      <td>0</td>\n",
              "      <td>1</td>\n",
              "      <td>219.142.90.227-147.32.84.165-22155-7600-UDP</td>\n",
              "      <td>1</td>\n",
              "      <td>1</td>\n",
              "      <td>0.0</td>\n",
              "      <td>1</td>\n",
              "      <td>89</td>\n",
              "      <td>1</td>\n",
              "      <td>89</td>\n",
              "      <td>0.0</td>\n",
              "      <td>1.0</td>\n",
              "      <td>0.0</td>\n",
              "      <td>0.0</td>\n",
              "      <td>0.0</td>\n",
              "      <td>89.0</td>\n",
              "      <td>0.0</td>\n",
              "      <td>0</td>\n",
              "      <td>0</td>\n",
              "      <td>0</td>\n",
              "      <td>57</td>\n",
              "      <td>1</td>\n",
              "    </tr>\n",
              "    <tr>\n",
              "      <th>...</th>\n",
              "      <td>...</td>\n",
              "      <td>...</td>\n",
              "      <td>...</td>\n",
              "      <td>...</td>\n",
              "      <td>...</td>\n",
              "      <td>...</td>\n",
              "      <td>...</td>\n",
              "      <td>...</td>\n",
              "      <td>...</td>\n",
              "      <td>...</td>\n",
              "      <td>...</td>\n",
              "      <td>...</td>\n",
              "      <td>...</td>\n",
              "      <td>...</td>\n",
              "      <td>...</td>\n",
              "      <td>...</td>\n",
              "      <td>...</td>\n",
              "      <td>...</td>\n",
              "      <td>...</td>\n",
              "      <td>...</td>\n",
              "      <td>...</td>\n",
              "      <td>...</td>\n",
              "      <td>...</td>\n",
              "      <td>...</td>\n",
              "      <td>...</td>\n",
              "      <td>...</td>\n",
              "      <td>...</td>\n",
              "      <td>...</td>\n",
              "      <td>...</td>\n",
              "      <td>...</td>\n",
              "      <td>...</td>\n",
              "      <td>...</td>\n",
              "      <td>...</td>\n",
              "      <td>...</td>\n",
              "      <td>...</td>\n",
              "      <td>...</td>\n",
              "      <td>...</td>\n",
              "      <td>...</td>\n",
              "    </tr>\n",
              "    <tr>\n",
              "      <th>1352538</th>\n",
              "      <td>1352538</td>\n",
              "      <td>2829734</td>\n",
              "      <td>413.56200</td>\n",
              "      <td>147.32.84.165</td>\n",
              "      <td>195.113.232.73</td>\n",
              "      <td>TCP</td>\n",
              "      <td>60</td>\n",
              "      <td>1074</td>\n",
              "      <td>80</td>\n",
              "      <td>eth:ethertype:ip:tcp</td>\n",
              "      <td>127</td>\n",
              "      <td>-1.0</td>\n",
              "      <td>16384</td>\n",
              "      <td>116.0</td>\n",
              "      <td>116.0</td>\n",
              "      <td>0.0</td>\n",
              "      <td>16</td>\n",
              "      <td>1</td>\n",
              "      <td>195.113.232.73-147.32.84.165-80-1074-TCP</td>\n",
              "      <td>0</td>\n",
              "      <td>0</td>\n",
              "      <td>-1.0</td>\n",
              "      <td>1</td>\n",
              "      <td>60</td>\n",
              "      <td>1</td>\n",
              "      <td>60</td>\n",
              "      <td>0.0</td>\n",
              "      <td>1.0</td>\n",
              "      <td>0.0</td>\n",
              "      <td>0.0</td>\n",
              "      <td>0.0</td>\n",
              "      <td>60.0</td>\n",
              "      <td>0.0</td>\n",
              "      <td>1</td>\n",
              "      <td>1</td>\n",
              "      <td>0</td>\n",
              "      <td>46</td>\n",
              "      <td>2</td>\n",
              "    </tr>\n",
              "    <tr>\n",
              "      <th>1776276</th>\n",
              "      <td>1776276</td>\n",
              "      <td>3755761</td>\n",
              "      <td>554.08000</td>\n",
              "      <td>147.32.84.165</td>\n",
              "      <td>209.85.149.160</td>\n",
              "      <td>TCP</td>\n",
              "      <td>60</td>\n",
              "      <td>1051</td>\n",
              "      <td>80</td>\n",
              "      <td>eth:ethertype:ip:tcp</td>\n",
              "      <td>127</td>\n",
              "      <td>-1.0</td>\n",
              "      <td>16384</td>\n",
              "      <td>137.0</td>\n",
              "      <td>137.0</td>\n",
              "      <td>0.0</td>\n",
              "      <td>16</td>\n",
              "      <td>1</td>\n",
              "      <td>209.85.149.160-147.32.84.165-80-1051-TCP</td>\n",
              "      <td>0</td>\n",
              "      <td>0</td>\n",
              "      <td>-1.0</td>\n",
              "      <td>1</td>\n",
              "      <td>60</td>\n",
              "      <td>1</td>\n",
              "      <td>60</td>\n",
              "      <td>0.0</td>\n",
              "      <td>1.0</td>\n",
              "      <td>0.0</td>\n",
              "      <td>0.0</td>\n",
              "      <td>0.0</td>\n",
              "      <td>60.0</td>\n",
              "      <td>0.0</td>\n",
              "      <td>1</td>\n",
              "      <td>1</td>\n",
              "      <td>0</td>\n",
              "      <td>46</td>\n",
              "      <td>2</td>\n",
              "    </tr>\n",
              "    <tr>\n",
              "      <th>2130760</th>\n",
              "      <td>2130760</td>\n",
              "      <td>4277714</td>\n",
              "      <td>670.34700</td>\n",
              "      <td>85.67.57.3</td>\n",
              "      <td>147.32.84.193</td>\n",
              "      <td>UDP</td>\n",
              "      <td>109</td>\n",
              "      <td>30509</td>\n",
              "      <td>17676</td>\n",
              "      <td>eth:ethertype:ip:udp:rtps</td>\n",
              "      <td>118</td>\n",
              "      <td>75.0</td>\n",
              "      <td>0</td>\n",
              "      <td>-1.0</td>\n",
              "      <td>-1.0</td>\n",
              "      <td>-1.0</td>\n",
              "      <td>0</td>\n",
              "      <td>1</td>\n",
              "      <td>85.67.57.3-147.32.84.193-30509-17676-UDP</td>\n",
              "      <td>1</td>\n",
              "      <td>1</td>\n",
              "      <td>0.0</td>\n",
              "      <td>1</td>\n",
              "      <td>109</td>\n",
              "      <td>1</td>\n",
              "      <td>109</td>\n",
              "      <td>0.0</td>\n",
              "      <td>1.0</td>\n",
              "      <td>0.0</td>\n",
              "      <td>0.0</td>\n",
              "      <td>0.0</td>\n",
              "      <td>109.0</td>\n",
              "      <td>0.0</td>\n",
              "      <td>0</td>\n",
              "      <td>0</td>\n",
              "      <td>0</td>\n",
              "      <td>49</td>\n",
              "      <td>2</td>\n",
              "    </tr>\n",
              "    <tr>\n",
              "      <th>2795883</th>\n",
              "      <td>2795883</td>\n",
              "      <td>5383639</td>\n",
              "      <td>913.43400</td>\n",
              "      <td>195.113.232.73</td>\n",
              "      <td>147.32.84.165</td>\n",
              "      <td>TCP</td>\n",
              "      <td>60</td>\n",
              "      <td>80</td>\n",
              "      <td>1074</td>\n",
              "      <td>eth:ethertype:ip:tcp</td>\n",
              "      <td>57</td>\n",
              "      <td>-1.0</td>\n",
              "      <td>16384</td>\n",
              "      <td>4570.0</td>\n",
              "      <td>4570.0</td>\n",
              "      <td>0.0</td>\n",
              "      <td>17</td>\n",
              "      <td>1</td>\n",
              "      <td>195.113.232.73-147.32.84.165-80-1074-TCP</td>\n",
              "      <td>1</td>\n",
              "      <td>1</td>\n",
              "      <td>0.0</td>\n",
              "      <td>1</td>\n",
              "      <td>60</td>\n",
              "      <td>1</td>\n",
              "      <td>60</td>\n",
              "      <td>0.0</td>\n",
              "      <td>1.0</td>\n",
              "      <td>0.0</td>\n",
              "      <td>0.0</td>\n",
              "      <td>0.0</td>\n",
              "      <td>60.0</td>\n",
              "      <td>0.0</td>\n",
              "      <td>1</td>\n",
              "      <td>1</td>\n",
              "      <td>0</td>\n",
              "      <td>46</td>\n",
              "      <td>2</td>\n",
              "    </tr>\n",
              "    <tr>\n",
              "      <th>2795885</th>\n",
              "      <td>2795885</td>\n",
              "      <td>5383641</td>\n",
              "      <td>913.43500</td>\n",
              "      <td>147.32.84.165</td>\n",
              "      <td>195.113.232.73</td>\n",
              "      <td>TCP</td>\n",
              "      <td>60</td>\n",
              "      <td>1074</td>\n",
              "      <td>80</td>\n",
              "      <td>eth:ethertype:ip:tcp</td>\n",
              "      <td>127</td>\n",
              "      <td>-1.0</td>\n",
              "      <td>16384</td>\n",
              "      <td>116.0</td>\n",
              "      <td>116.0</td>\n",
              "      <td>0.0</td>\n",
              "      <td>16</td>\n",
              "      <td>1</td>\n",
              "      <td>195.113.232.73-147.32.84.165-80-1074-TCP</td>\n",
              "      <td>0</td>\n",
              "      <td>0</td>\n",
              "      <td>-1.0</td>\n",
              "      <td>1</td>\n",
              "      <td>60</td>\n",
              "      <td>1</td>\n",
              "      <td>60</td>\n",
              "      <td>0.0</td>\n",
              "      <td>1.0</td>\n",
              "      <td>0.0</td>\n",
              "      <td>0.0</td>\n",
              "      <td>0.0</td>\n",
              "      <td>60.0</td>\n",
              "      <td>0.0</td>\n",
              "      <td>1</td>\n",
              "      <td>1</td>\n",
              "      <td>0</td>\n",
              "      <td>46</td>\n",
              "      <td>2</td>\n",
              "    </tr>\n",
              "  </tbody>\n",
              "</table>\n",
              "<p>20524 rows × 38 columns</p>\n",
              "</div>"
            ],
            "text/plain": [
              "         Flow id      No.       Time  ... reconnects Protocol_2 dataff\n",
              "291          291      710    0.35725  ...          0         57      1\n",
              "13435      13435    29980   14.35580  ...          0         57      1\n",
              "17759      17759    39411   18.80270  ...          0         57      1\n",
              "29893      29893    64309   30.75450  ...          0         57      1\n",
              "36413      36413    79142   37.18040  ...          0         57      1\n",
              "...          ...      ...        ...  ...        ...        ...    ...\n",
              "1352538  1352538  2829734  413.56200  ...          0         46      2\n",
              "1776276  1776276  3755761  554.08000  ...          0         46      2\n",
              "2130760  2130760  4277714  670.34700  ...          0         49      2\n",
              "2795883  2795883  5383639  913.43400  ...          0         46      2\n",
              "2795885  2795885  5383641  913.43500  ...          0         46      2\n",
              "\n",
              "[20524 rows x 38 columns]"
            ]
          },
          "metadata": {
            "tags": []
          },
          "execution_count": 26
        }
      ]
    },
    {
      "cell_type": "code",
      "metadata": {
        "id": "TZwplra3dlsU",
        "colab_type": "code",
        "outputId": "a7dfb365-7422-4055-fb0d-f64d9bd95d8f",
        "colab": {
          "base_uri": "https://localhost:8080/",
          "height": 602
        }
      },
      "source": [
        "\n",
        "dd = result[(result.isBot == 1) & (result.Predict_label == 0)].groupby('dataff')['APL'].count()\n",
        "dd.plot(kind ='bar',figsize=(20,10))\n",
        "plt.show()"
      ],
      "execution_count": 0,
      "outputs": [
        {
          "output_type": "display_data",
          "data": {
            "image/png": "[encoded data removed]",
            "text/plain": [
              "<Figure size 1440x720 with 1 Axes>"
            ]
          },
          "metadata": {
            "tags": []
          }
        }
      ]
    },
    {
      "cell_type": "code",
      "metadata": {
        "id": "hSNggPr1hApB",
        "colab_type": "code",
        "outputId": "eef4bebd-54cc-46d8-9811-9eb6c43496d3",
        "colab": {
          "base_uri": "https://localhost:8080/",
          "height": 103
        }
      },
      "source": [
        "dtest[dtest['Flow name'] == '147.32.84.165-119.167.201.242-1053-80-TCP'].head()"
      ],
      "execution_count": 0,
      "outputs": [
        {
          "output_type": "execute_result",
          "data": {
            "text/html": [
              "<div>\n",
              "<style scoped>\n",
              "    .dataframe tbody tr th:only-of-type {\n",
              "        vertical-align: middle;\n",
              "    }\n",
              "\n",
              "    .dataframe tbody tr th {\n",
              "        vertical-align: top;\n",
              "    }\n",
              "\n",
              "    .dataframe thead th {\n",
              "        text-align: right;\n",
              "    }\n",
              "</style>\n",
              "<table border=\"1\" class=\"dataframe\">\n",
              "  <thead>\n",
              "    <tr style=\"text-align: right;\">\n",
              "      <th></th>\n",
              "      <th>Flow id</th>\n",
              "      <th>No.</th>\n",
              "      <th>Time</th>\n",
              "      <th>Source</th>\n",
              "      <th>Destination</th>\n",
              "      <th>Protocol</th>\n",
              "      <th>Length</th>\n",
              "      <th>Source Port</th>\n",
              "      <th>Destination Port</th>\n",
              "      <th>Protocols in frame</th>\n",
              "      <th>Time to live</th>\n",
              "      <th>udp_Length</th>\n",
              "      <th>IP_Flags</th>\n",
              "      <th>Sequence number</th>\n",
              "      <th>Next sequence number</th>\n",
              "      <th>TCP Segment Len</th>\n",
              "      <th>tcp_Flags</th>\n",
              "      <th>isBot</th>\n",
              "      <th>Flow name</th>\n",
              "      <th>NumForward</th>\n",
              "      <th>Forward</th>\n",
              "      <th>IOPR</th>\n",
              "      <th>Total</th>\n",
              "      <th>FPL</th>\n",
              "      <th>NumPackets</th>\n",
              "      <th>BytesTotal</th>\n",
              "      <th>StdDevLen</th>\n",
              "      <th>SameLenPktRatio</th>\n",
              "      <th>Duration</th>\n",
              "      <th>AvgPktPerSec</th>\n",
              "      <th>BitsPerSec</th>\n",
              "      <th>APL</th>\n",
              "      <th>IAT</th>\n",
              "      <th>isNull</th>\n",
              "      <th>NPEx</th>\n",
              "      <th>reconnects</th>\n",
              "      <th>Protocol_2</th>\n",
              "      <th>Predict_label</th>\n",
              "    </tr>\n",
              "  </thead>\n",
              "  <tbody>\n",
              "  </tbody>\n",
              "</table>\n",
              "</div>"
            ],
            "text/plain": [
              "Empty DataFrame\n",
              "Columns: [Flow id, No., Time, Source, Destination, Protocol, Length, Source Port, Destination Port, Protocols in frame, Time to live, udp_Length, IP_Flags, Sequence number, Next sequence number, TCP Segment Len, tcp_Flags, isBot, Flow name, NumForward, Forward, IOPR, Total, FPL, NumPackets, BytesTotal, StdDevLen, SameLenPktRatio, Duration, AvgPktPerSec, BitsPerSec, APL, IAT, isNull, NPEx, reconnects, Protocol_2, Predict_label]\n",
              "Index: []"
            ]
          },
          "metadata": {
            "tags": []
          },
          "execution_count": 130
        }
      ]
    },
    {
      "cell_type": "code",
      "metadata": {
        "id": "a5elpgNieF7S",
        "colab_type": "code",
        "outputId": "1d157678-5f2b-4c7f-d47e-1f9bd9712759",
        "colab": {
          "base_uri": "https://localhost:8080/",
          "height": 103
        }
      },
      "source": [
        "hh[hh['Predict_label']==0].head()"
      ],
      "execution_count": 0,
      "outputs": [
        {
          "output_type": "execute_result",
          "data": {
            "text/html": [
              "<div>\n",
              "<style scoped>\n",
              "    .dataframe tbody tr th:only-of-type {\n",
              "        vertical-align: middle;\n",
              "    }\n",
              "\n",
              "    .dataframe tbody tr th {\n",
              "        vertical-align: top;\n",
              "    }\n",
              "\n",
              "    .dataframe thead th {\n",
              "        text-align: right;\n",
              "    }\n",
              "</style>\n",
              "<table border=\"1\" class=\"dataframe\">\n",
              "  <thead>\n",
              "    <tr style=\"text-align: right;\">\n",
              "      <th></th>\n",
              "      <th>APL</th>\n",
              "      <th>AvgPktPerSec</th>\n",
              "      <th>BitsPerSec</th>\n",
              "      <th>BytesTotal</th>\n",
              "      <th>Destination</th>\n",
              "      <th>Destination Port</th>\n",
              "      <th>Duration</th>\n",
              "      <th>FPL</th>\n",
              "      <th>Flow id</th>\n",
              "      <th>Flow name</th>\n",
              "      <th>Forward</th>\n",
              "      <th>IAT</th>\n",
              "      <th>IOPR</th>\n",
              "      <th>IP_Flags</th>\n",
              "      <th>Length</th>\n",
              "      <th>NPEx</th>\n",
              "      <th>Next sequence number</th>\n",
              "      <th>No.</th>\n",
              "      <th>NumForward</th>\n",
              "      <th>NumPackets</th>\n",
              "      <th>Predict_label</th>\n",
              "      <th>Protocol</th>\n",
              "      <th>Protocol_2</th>\n",
              "      <th>Protocols in frame</th>\n",
              "      <th>SameLenPktRatio</th>\n",
              "      <th>Sequence number</th>\n",
              "      <th>Source</th>\n",
              "      <th>Source Port</th>\n",
              "      <th>StdDevLen</th>\n",
              "      <th>TCP Segment Len</th>\n",
              "      <th>Time</th>\n",
              "      <th>Time to live</th>\n",
              "      <th>Total</th>\n",
              "      <th>isBot</th>\n",
              "      <th>isNull</th>\n",
              "      <th>reconnects</th>\n",
              "      <th>tcp_Flags</th>\n",
              "      <th>udp_Length</th>\n",
              "    </tr>\n",
              "  </thead>\n",
              "  <tbody>\n",
              "  </tbody>\n",
              "</table>\n",
              "</div>"
            ],
            "text/plain": [
              "Empty DataFrame\n",
              "Columns: [APL, AvgPktPerSec, BitsPerSec, BytesTotal, Destination, Destination Port, Duration, FPL, Flow id, Flow name, Forward, IAT, IOPR, IP_Flags, Length, NPEx, Next sequence number, No., NumForward, NumPackets, Predict_label, Protocol, Protocol_2, Protocols in frame, SameLenPktRatio, Sequence number, Source, Source Port, StdDevLen, TCP Segment Len, Time, Time to live, Total, isBot, isNull, reconnects, tcp_Flags, udp_Length]\n",
              "Index: []"
            ]
          },
          "metadata": {
            "tags": []
          },
          "execution_count": 113
        }
      ]
    },
    {
      "cell_type": "code",
      "metadata": {
        "id": "dEChnKqzdR40",
        "colab_type": "code",
        "outputId": "a5d8ee60-3a65-4c6f-bc69-ccec80b551b0",
        "colab": {
          "base_uri": "https://localhost:8080/",
          "height": 496
        }
      },
      "source": [
        "result[result['Predict_label']==0].head()"
      ],
      "execution_count": 0,
      "outputs": [
        {
          "output_type": "execute_result",
          "data": {
            "text/html": [
              "<div>\n",
              "<style scoped>\n",
              "    .dataframe tbody tr th:only-of-type {\n",
              "        vertical-align: middle;\n",
              "    }\n",
              "\n",
              "    .dataframe tbody tr th {\n",
              "        vertical-align: top;\n",
              "    }\n",
              "\n",
              "    .dataframe thead th {\n",
              "        text-align: right;\n",
              "    }\n",
              "</style>\n",
              "<table border=\"1\" class=\"dataframe\">\n",
              "  <thead>\n",
              "    <tr style=\"text-align: right;\">\n",
              "      <th></th>\n",
              "      <th>APL</th>\n",
              "      <th>AvgPktPerSec</th>\n",
              "      <th>BitsPerSec</th>\n",
              "      <th>BytesTotal</th>\n",
              "      <th>Destination</th>\n",
              "      <th>Destination Port</th>\n",
              "      <th>Duration</th>\n",
              "      <th>FPL</th>\n",
              "      <th>Flow id</th>\n",
              "      <th>Flow name</th>\n",
              "      <th>Forward</th>\n",
              "      <th>IAT</th>\n",
              "      <th>IOPR</th>\n",
              "      <th>IP_Flags</th>\n",
              "      <th>Length</th>\n",
              "      <th>NPEx</th>\n",
              "      <th>Next sequence number</th>\n",
              "      <th>No.</th>\n",
              "      <th>NumForward</th>\n",
              "      <th>NumPackets</th>\n",
              "      <th>Predict_label</th>\n",
              "      <th>Protocol</th>\n",
              "      <th>Protocol_2</th>\n",
              "      <th>Protocols in frame</th>\n",
              "      <th>SameLenPktRatio</th>\n",
              "      <th>Sequence number</th>\n",
              "      <th>Source</th>\n",
              "      <th>Source Port</th>\n",
              "      <th>StdDevLen</th>\n",
              "      <th>TCP Segment Len</th>\n",
              "      <th>Time</th>\n",
              "      <th>Time to live</th>\n",
              "      <th>Total</th>\n",
              "      <th>isBot</th>\n",
              "      <th>isNull</th>\n",
              "      <th>reconnects</th>\n",
              "      <th>tcp_Flags</th>\n",
              "      <th>udp_Length</th>\n",
              "    </tr>\n",
              "  </thead>\n",
              "  <tbody>\n",
              "    <tr>\n",
              "      <th>0</th>\n",
              "      <td>413.333</td>\n",
              "      <td>8823.53</td>\n",
              "      <td>29176500.0</td>\n",
              "      <td>1240</td>\n",
              "      <td>147.32.85.26</td>\n",
              "      <td>62860</td>\n",
              "      <td>0.00034</td>\n",
              "      <td>60</td>\n",
              "      <td>0</td>\n",
              "      <td>90.180.253.169-147.32.85.26-16207-62860-TCP</td>\n",
              "      <td>1</td>\n",
              "      <td>0.000113</td>\n",
              "      <td>2.0</td>\n",
              "      <td>0</td>\n",
              "      <td>60</td>\n",
              "      <td>3</td>\n",
              "      <td>1.0</td>\n",
              "      <td>1</td>\n",
              "      <td>1</td>\n",
              "      <td>3</td>\n",
              "      <td>0</td>\n",
              "      <td>TCP</td>\n",
              "      <td>52</td>\n",
              "      <td>eth:ethertype:ip:tcp</td>\n",
              "      <td>0.666667</td>\n",
              "      <td>1.0</td>\n",
              "      <td>90.180.253.169</td>\n",
              "      <td>16207</td>\n",
              "      <td>249.844</td>\n",
              "      <td>0.0</td>\n",
              "      <td>0.000000</td>\n",
              "      <td>118</td>\n",
              "      <td>3</td>\n",
              "      <td>0</td>\n",
              "      <td>1</td>\n",
              "      <td>0</td>\n",
              "      <td>16</td>\n",
              "      <td>-1.0</td>\n",
              "    </tr>\n",
              "    <tr>\n",
              "      <th>1</th>\n",
              "      <td>62.000</td>\n",
              "      <td>0.00</td>\n",
              "      <td>0.0</td>\n",
              "      <td>62</td>\n",
              "      <td>147.32.84.229</td>\n",
              "      <td>13363</td>\n",
              "      <td>0.00000</td>\n",
              "      <td>62</td>\n",
              "      <td>1</td>\n",
              "      <td>98.27.131.242-147.32.84.229-11256-13363-UDP</td>\n",
              "      <td>1</td>\n",
              "      <td>0.000000</td>\n",
              "      <td>0.0</td>\n",
              "      <td>0</td>\n",
              "      <td>62</td>\n",
              "      <td>0</td>\n",
              "      <td>-1.0</td>\n",
              "      <td>4</td>\n",
              "      <td>1</td>\n",
              "      <td>1</td>\n",
              "      <td>0</td>\n",
              "      <td>UDP</td>\n",
              "      <td>57</td>\n",
              "      <td>eth:ethertype:ip:udp:rtps</td>\n",
              "      <td>1.000000</td>\n",
              "      <td>-1.0</td>\n",
              "      <td>98.27.131.242</td>\n",
              "      <td>11256</td>\n",
              "      <td>0.000</td>\n",
              "      <td>-1.0</td>\n",
              "      <td>0.000487</td>\n",
              "      <td>107</td>\n",
              "      <td>1</td>\n",
              "      <td>0</td>\n",
              "      <td>0</td>\n",
              "      <td>0</td>\n",
              "      <td>0</td>\n",
              "      <td>28.0</td>\n",
              "    </tr>\n",
              "    <tr>\n",
              "      <th>2</th>\n",
              "      <td>413.333</td>\n",
              "      <td>8108.11</td>\n",
              "      <td>26810800.0</td>\n",
              "      <td>1240</td>\n",
              "      <td>147.32.85.26</td>\n",
              "      <td>62860</td>\n",
              "      <td>0.00037</td>\n",
              "      <td>60</td>\n",
              "      <td>2</td>\n",
              "      <td>90.180.253.169-147.32.85.26-16207-62860-TCP</td>\n",
              "      <td>1</td>\n",
              "      <td>0.000123</td>\n",
              "      <td>2.0</td>\n",
              "      <td>0</td>\n",
              "      <td>60</td>\n",
              "      <td>3</td>\n",
              "      <td>1.0</td>\n",
              "      <td>5</td>\n",
              "      <td>1</td>\n",
              "      <td>3</td>\n",
              "      <td>0</td>\n",
              "      <td>TCP</td>\n",
              "      <td>52</td>\n",
              "      <td>eth:ethertype:ip:tcp</td>\n",
              "      <td>0.666667</td>\n",
              "      <td>1.0</td>\n",
              "      <td>90.180.253.169</td>\n",
              "      <td>16207</td>\n",
              "      <td>249.844</td>\n",
              "      <td>0.0</td>\n",
              "      <td>0.001566</td>\n",
              "      <td>118</td>\n",
              "      <td>3</td>\n",
              "      <td>0</td>\n",
              "      <td>1</td>\n",
              "      <td>0</td>\n",
              "      <td>16</td>\n",
              "      <td>-1.0</td>\n",
              "    </tr>\n",
              "    <tr>\n",
              "      <th>3</th>\n",
              "      <td>60.000</td>\n",
              "      <td>0.00</td>\n",
              "      <td>0.0</td>\n",
              "      <td>60</td>\n",
              "      <td>147.32.84.229</td>\n",
              "      <td>13363</td>\n",
              "      <td>0.00000</td>\n",
              "      <td>60</td>\n",
              "      <td>3</td>\n",
              "      <td>219.84.184.25-147.32.84.229-48225-13363-UDP</td>\n",
              "      <td>1</td>\n",
              "      <td>0.000000</td>\n",
              "      <td>0.0</td>\n",
              "      <td>0</td>\n",
              "      <td>60</td>\n",
              "      <td>0</td>\n",
              "      <td>-1.0</td>\n",
              "      <td>8</td>\n",
              "      <td>1</td>\n",
              "      <td>1</td>\n",
              "      <td>0</td>\n",
              "      <td>UDP</td>\n",
              "      <td>57</td>\n",
              "      <td>eth:ethertype:ip:udp:rtps</td>\n",
              "      <td>1.000000</td>\n",
              "      <td>-1.0</td>\n",
              "      <td>219.84.184.25</td>\n",
              "      <td>48225</td>\n",
              "      <td>0.000</td>\n",
              "      <td>-1.0</td>\n",
              "      <td>0.002145</td>\n",
              "      <td>105</td>\n",
              "      <td>1</td>\n",
              "      <td>0</td>\n",
              "      <td>0</td>\n",
              "      <td>0</td>\n",
              "      <td>0</td>\n",
              "      <td>26.0</td>\n",
              "    </tr>\n",
              "    <tr>\n",
              "      <th>4</th>\n",
              "      <td>70.000</td>\n",
              "      <td>0.00</td>\n",
              "      <td>0.0</td>\n",
              "      <td>70</td>\n",
              "      <td>147.122.45.75</td>\n",
              "      <td>60730</td>\n",
              "      <td>0.00000</td>\n",
              "      <td>70</td>\n",
              "      <td>4</td>\n",
              "      <td>147.32.84.229-147.122.45.75-443-60730-TCP</td>\n",
              "      <td>1</td>\n",
              "      <td>0.000000</td>\n",
              "      <td>0.0</td>\n",
              "      <td>16384</td>\n",
              "      <td>70</td>\n",
              "      <td>0</td>\n",
              "      <td>5.0</td>\n",
              "      <td>9</td>\n",
              "      <td>1</td>\n",
              "      <td>1</td>\n",
              "      <td>0</td>\n",
              "      <td>TCP</td>\n",
              "      <td>52</td>\n",
              "      <td>eth:ethertype:ip:tcp</td>\n",
              "      <td>1.000000</td>\n",
              "      <td>1.0</td>\n",
              "      <td>147.32.84.229</td>\n",
              "      <td>443</td>\n",
              "      <td>0.000</td>\n",
              "      <td>4.0</td>\n",
              "      <td>0.002598</td>\n",
              "      <td>127</td>\n",
              "      <td>1</td>\n",
              "      <td>0</td>\n",
              "      <td>0</td>\n",
              "      <td>0</td>\n",
              "      <td>24</td>\n",
              "      <td>-1.0</td>\n",
              "    </tr>\n",
              "  </tbody>\n",
              "</table>\n",
              "</div>"
            ],
            "text/plain": [
              "       APL  AvgPktPerSec  BitsPerSec  ...  reconnects tcp_Flags  udp_Length\n",
              "0  413.333       8823.53  29176500.0  ...           0        16        -1.0\n",
              "1   62.000          0.00         0.0  ...           0         0        28.0\n",
              "2  413.333       8108.11  26810800.0  ...           0        16        -1.0\n",
              "3   60.000          0.00         0.0  ...           0         0        26.0\n",
              "4   70.000          0.00         0.0  ...           0        24        -1.0\n",
              "\n",
              "[5 rows x 38 columns]"
            ]
          },
          "metadata": {
            "tags": []
          },
          "execution_count": 114
        }
      ]
    },
    {
      "cell_type": "code",
      "metadata": {
        "id": "TPqb1WqJN2ae",
        "colab_type": "code",
        "outputId": "02e3250f-a432-4158-e489-2413a7491132",
        "colab": {
          "base_uri": "https://localhost:8080/",
          "height": 588
        }
      },
      "source": [
        "import matplotlib.pyplot as plt\n",
        "dataperDay = result[result['isBot']==1].groupby('Predict_label')['Flow id'].count().reset_index()\n",
        "dataperDay.plot(kind ='bar',figsize=(20,10))\n",
        "plt.show()"
      ],
      "execution_count": 0,
      "outputs": [
        {
          "output_type": "display_data",
          "data": {
            "image/png": "[encoded data removed]",
            "text/plain": [
              "<Figure size 1440x720 with 1 Axes>"
            ]
          },
          "metadata": {
            "tags": []
          }
        }
      ]
    },
    {
      "cell_type": "code",
      "metadata": {
        "id": "GHv6doQlN4Vs",
        "colab_type": "code",
        "outputId": "89f0425c-8cca-42ed-ed42-4dad1b772d87",
        "colab": {
          "base_uri": "https://localhost:8080/",
          "height": 588
        }
      },
      "source": [
        "dataperdayofWeek2 = dtest[dtest['isBot']==0].groupby('Predict_label')['Flow'].count().reset_index()\n",
        "dataperdayofWeek2.plot(kind ='bar',figsize=(20,10))\n",
        "plt.show()"
      ],
      "execution_count": 0,
      "outputs": [
        {
          "output_type": "display_data",
          "data": {
            "image/png": "[encoded data removed]",
            "text/plain": [
              "<Figure size 1440x720 with 1 Axes>"
            ]
          },
          "metadata": {
            "tags": []
          }
        }
      ]
    }
  ]
}