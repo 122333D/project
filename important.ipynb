{
  "nbformat": 4,
  "nbformat_minor": 0,
  "metadata": {
    "colab": {
      "name": "important.ipynb",
      "provenance": [],
      "include_colab_link": true
    },
    "kernelspec": {
      "name": "python3",
      "display_name": "Python 3"
    }
  },
  "cells": [
    {
      "cell_type": "markdown",
      "metadata": {
        "id": "view-in-github",
        "colab_type": "text"
      },
      "source": [
        "<a href=\"https://colab.research.google.com/github/122333D/project/blob/master/important.ipynb\" target=\"_parent\"><img src=\"https://colab.research.google.com/assets/colab-badge.svg\" alt=\"Open In Colab\"/></a>"
      ]
    },
    {
      "cell_type": "code",
      "metadata": {
        "id": "8n0TRhUJrcyu",
        "colab_type": "code",
        "outputId": "5c8669ce-928f-46ca-bc71-dc73331c5f85",
        "colab": {
          "base_uri": "https://localhost:8080/",
          "height": 34
        }
      },
      "source": [
        "!pip install --upgrade pip"
      ],
      "execution_count": 0,
      "outputs": [
        {
          "output_type": "stream",
          "text": [
            "Requirement already up-to-date: pip in /usr/local/lib/python3.6/dist-packages (19.3.1)\n"
          ],
          "name": "stdout"
        }
      ]
    },
    {
      "cell_type": "code",
      "metadata": {
        "id": "zGh-tQE4THzt",
        "colab_type": "code",
        "outputId": "ff80c9de-904e-446f-b66d-efe9f9e91cf4",
        "colab": {
          "base_uri": "https://localhost:8080/",
          "height": 122
        }
      },
      "source": [
        "from google.colab import drive\n",
        "drive.mount('/content/gdrive')"
      ],
      "execution_count": 0,
      "outputs": [
        {
          "output_type": "stream",
          "text": [
            "Go to this URL in a browser: https://accounts.google.com/o/oauth2/auth?client_id=947318989803-6bn6qk8qdgf4n4g3pfee6491hc0brc4i.apps.googleusercontent.com&redirect_uri=urn%3aietf%3awg%3aoauth%3a2.0%3aoob&response_type=code&scope=email%20https%3a%2f%2fwww.googleapis.com%2fauth%2fdocs.test%20https%3a%2f%2fwww.googleapis.com%2fauth%2fdrive%20https%3a%2f%2fwww.googleapis.com%2fauth%2fdrive.photos.readonly%20https%3a%2f%2fwww.googleapis.com%2fauth%2fpeopleapi.readonly\n",
            "\n",
            "Enter your authorization code:\n",
            "··········\n",
            "Mounted at /content/gdrive\n"
          ],
          "name": "stdout"
        }
      ]
    },
    {
      "cell_type": "code",
      "metadata": {
        "id": "111Ag9WRTFPY",
        "colab_type": "code",
        "outputId": "c6e325c3-d1b5-4c2b-c8b9-3c05ff9c231b",
        "colab": {
          "base_uri": "https://localhost:8080/",
          "height": 119
        }
      },
      "source": [
        "!ls \"/content/gdrive/My Drive/ctuCsv\""
      ],
      "execution_count": 0,
      "outputs": [
        {
          "output_type": "stream",
          "text": [
            " All_162182.csv      ctu-10.csv\t\t   groupby11.csv        test162182.csv\n",
            " All_train_162.csv   ctu-11.csv\t\t   groupby162182.csv    yhat16219.csv\n",
            " All_train199.csv    ctu-42.csv\t\t   groupby162.csv       yhat19.csv\n",
            " All_train_19.csv   'data test'\t\t   groupby199.csv\n",
            " All_train19.csv    'data train'\t   groupby19.csv\n",
            " All_train.csv\t     finalPredictyesssss   rfcBotreduceft.pkl\n"
          ],
          "name": "stdout"
        }
      ]
    },
    {
      "cell_type": "code",
      "metadata": {
        "id": "jvl030ivTLxl",
        "colab_type": "code",
        "outputId": "2a044b25-199c-4baf-d98f-7a5c07f9bd60",
        "colab": {
          "base_uri": "https://localhost:8080/",
          "height": 479
        }
      },
      "source": [
        "import pandas as pd \n",
        "df = pd.read_csv('/content/gdrive/My Drive/ctuCsv/groupby19.csv')\n",
        "df.head()"
      ],
      "execution_count": 0,
      "outputs": [
        {
          "output_type": "execute_result",
          "data": {
            "text/html": [
              "<div>\n",
              "<style scoped>\n",
              "    .dataframe tbody tr th:only-of-type {\n",
              "        vertical-align: middle;\n",
              "    }\n",
              "\n",
              "    .dataframe tbody tr th {\n",
              "        vertical-align: top;\n",
              "    }\n",
              "\n",
              "    .dataframe thead th {\n",
              "        text-align: right;\n",
              "    }\n",
              "</style>\n",
              "<table border=\"1\" class=\"dataframe\">\n",
              "  <thead>\n",
              "    <tr style=\"text-align: right;\">\n",
              "      <th></th>\n",
              "      <th>Flow id</th>\n",
              "      <th>No.</th>\n",
              "      <th>Time</th>\n",
              "      <th>Source</th>\n",
              "      <th>Destination</th>\n",
              "      <th>Protocol</th>\n",
              "      <th>Length</th>\n",
              "      <th>Source Port</th>\n",
              "      <th>Destination Port</th>\n",
              "      <th>Protocols in frame</th>\n",
              "      <th>Time to live</th>\n",
              "      <th>udp_Length</th>\n",
              "      <th>IP_Flags</th>\n",
              "      <th>Sequence number</th>\n",
              "      <th>Next sequence number</th>\n",
              "      <th>TCP Segment Len</th>\n",
              "      <th>tcp_Flags</th>\n",
              "      <th>isBot</th>\n",
              "      <th>Flow name</th>\n",
              "      <th>NumForward</th>\n",
              "      <th>Forward</th>\n",
              "      <th>IOPR</th>\n",
              "      <th>Total</th>\n",
              "      <th>FPL</th>\n",
              "      <th>NumPackets</th>\n",
              "      <th>BytesTotal</th>\n",
              "      <th>StdDevLen</th>\n",
              "      <th>SameLenPktRatio</th>\n",
              "      <th>Duration</th>\n",
              "      <th>AvgPktPerSec</th>\n",
              "      <th>BitsPerSec</th>\n",
              "      <th>APL</th>\n",
              "      <th>IAT</th>\n",
              "      <th>isNull</th>\n",
              "      <th>NPEx</th>\n",
              "      <th>reconnects</th>\n",
              "    </tr>\n",
              "  </thead>\n",
              "  <tbody>\n",
              "    <tr>\n",
              "      <th>0</th>\n",
              "      <td>2578261</td>\n",
              "      <td>5437860</td>\n",
              "      <td>1937.800</td>\n",
              "      <td>147.32.86.58</td>\n",
              "      <td>2.136.152.92</td>\n",
              "      <td>UDP</td>\n",
              "      <td>357</td>\n",
              "      <td>48784</td>\n",
              "      <td>29387</td>\n",
              "      <td>eth:ethertype:ip:udp:wol</td>\n",
              "      <td>127</td>\n",
              "      <td>323.0</td>\n",
              "      <td>0x0000</td>\n",
              "      <td>NaN</td>\n",
              "      <td>NaN</td>\n",
              "      <td>NaN</td>\n",
              "      <td>0</td>\n",
              "      <td>0</td>\n",
              "      <td>2.136.152.92-147.32.86.58-29387-48784-UDP</td>\n",
              "      <td>0</td>\n",
              "      <td>0</td>\n",
              "      <td>-1.0</td>\n",
              "      <td>1</td>\n",
              "      <td>357</td>\n",
              "      <td>1</td>\n",
              "      <td>357</td>\n",
              "      <td>0.00</td>\n",
              "      <td>1.0</td>\n",
              "      <td>0.000000</td>\n",
              "      <td>0.00</td>\n",
              "      <td>0.0</td>\n",
              "      <td>357.000</td>\n",
              "      <td>0.000000</td>\n",
              "      <td>0</td>\n",
              "      <td>0</td>\n",
              "      <td>0</td>\n",
              "    </tr>\n",
              "    <tr>\n",
              "      <th>1</th>\n",
              "      <td>922661</td>\n",
              "      <td>1916650</td>\n",
              "      <td>672.836</td>\n",
              "      <td>83.208.169.216</td>\n",
              "      <td>147.32.85.26</td>\n",
              "      <td>TCP</td>\n",
              "      <td>70</td>\n",
              "      <td>26471</td>\n",
              "      <td>62860</td>\n",
              "      <td>eth:ethertype:ip:tcp</td>\n",
              "      <td>118</td>\n",
              "      <td>NaN</td>\n",
              "      <td>0x4000</td>\n",
              "      <td>16909705.0</td>\n",
              "      <td>16909721.0</td>\n",
              "      <td>16.0</td>\n",
              "      <td>24</td>\n",
              "      <td>0</td>\n",
              "      <td>83.208.169.216-147.32.85.26-26471-62860-TCP</td>\n",
              "      <td>1</td>\n",
              "      <td>1</td>\n",
              "      <td>1.0</td>\n",
              "      <td>2</td>\n",
              "      <td>70</td>\n",
              "      <td>2</td>\n",
              "      <td>130</td>\n",
              "      <td>5.00</td>\n",
              "      <td>1.0</td>\n",
              "      <td>0.000238</td>\n",
              "      <td>8403.36</td>\n",
              "      <td>4369750.0</td>\n",
              "      <td>65.000</td>\n",
              "      <td>0.000119</td>\n",
              "      <td>1</td>\n",
              "      <td>2</td>\n",
              "      <td>0</td>\n",
              "    </tr>\n",
              "    <tr>\n",
              "      <th>2</th>\n",
              "      <td>4865614</td>\n",
              "      <td>10407401</td>\n",
              "      <td>3462.620</td>\n",
              "      <td>147.32.85.103</td>\n",
              "      <td>74.125.108.137</td>\n",
              "      <td>TCP</td>\n",
              "      <td>66</td>\n",
              "      <td>60847</td>\n",
              "      <td>80</td>\n",
              "      <td>eth:ethertype:ip:tcp</td>\n",
              "      <td>62</td>\n",
              "      <td>NaN</td>\n",
              "      <td>0x4000</td>\n",
              "      <td>1777.0</td>\n",
              "      <td>1777.0</td>\n",
              "      <td>0.0</td>\n",
              "      <td>16</td>\n",
              "      <td>0</td>\n",
              "      <td>74.125.108.137-147.32.85.103-80-60847-TCP</td>\n",
              "      <td>0</td>\n",
              "      <td>0</td>\n",
              "      <td>-1.0</td>\n",
              "      <td>2</td>\n",
              "      <td>66</td>\n",
              "      <td>2</td>\n",
              "      <td>132</td>\n",
              "      <td>0.00</td>\n",
              "      <td>0.5</td>\n",
              "      <td>0.000167</td>\n",
              "      <td>11976.00</td>\n",
              "      <td>6323350.0</td>\n",
              "      <td>66.000</td>\n",
              "      <td>0.000083</td>\n",
              "      <td>2</td>\n",
              "      <td>4</td>\n",
              "      <td>2</td>\n",
              "    </tr>\n",
              "    <tr>\n",
              "      <th>3</th>\n",
              "      <td>3159587</td>\n",
              "      <td>6844893</td>\n",
              "      <td>2225.180</td>\n",
              "      <td>147.32.84.59</td>\n",
              "      <td>157.22.19.142</td>\n",
              "      <td>TCP</td>\n",
              "      <td>60</td>\n",
              "      <td>1575</td>\n",
              "      <td>80</td>\n",
              "      <td>eth:ethertype:ip:tcp</td>\n",
              "      <td>126</td>\n",
              "      <td>NaN</td>\n",
              "      <td>0x4000</td>\n",
              "      <td>869.0</td>\n",
              "      <td>869.0</td>\n",
              "      <td>0.0</td>\n",
              "      <td>16</td>\n",
              "      <td>0</td>\n",
              "      <td>157.22.19.142-147.32.84.59-80-1575-TCP</td>\n",
              "      <td>0</td>\n",
              "      <td>0</td>\n",
              "      <td>-1.0</td>\n",
              "      <td>1</td>\n",
              "      <td>60</td>\n",
              "      <td>1</td>\n",
              "      <td>60</td>\n",
              "      <td>0.00</td>\n",
              "      <td>1.0</td>\n",
              "      <td>0.000000</td>\n",
              "      <td>0.00</td>\n",
              "      <td>0.0</td>\n",
              "      <td>60.000</td>\n",
              "      <td>0.000000</td>\n",
              "      <td>1</td>\n",
              "      <td>1</td>\n",
              "      <td>0</td>\n",
              "    </tr>\n",
              "    <tr>\n",
              "      <th>4</th>\n",
              "      <td>4565672</td>\n",
              "      <td>9802276</td>\n",
              "      <td>3213.990</td>\n",
              "      <td>83.208.169.216</td>\n",
              "      <td>147.32.85.26</td>\n",
              "      <td>TCP</td>\n",
              "      <td>1506</td>\n",
              "      <td>26471</td>\n",
              "      <td>62860</td>\n",
              "      <td>eth:ethertype:ip:tcp</td>\n",
              "      <td>118</td>\n",
              "      <td>NaN</td>\n",
              "      <td>0x4000</td>\n",
              "      <td>65656149.0</td>\n",
              "      <td>65657601.0</td>\n",
              "      <td>1452.0</td>\n",
              "      <td>16</td>\n",
              "      <td>0</td>\n",
              "      <td>83.208.169.216-147.32.85.26-26471-62860-TCP</td>\n",
              "      <td>2</td>\n",
              "      <td>1</td>\n",
              "      <td>0.5</td>\n",
              "      <td>3</td>\n",
              "      <td>1506</td>\n",
              "      <td>3</td>\n",
              "      <td>1628</td>\n",
              "      <td>681.18</td>\n",
              "      <td>1.0</td>\n",
              "      <td>0.000605</td>\n",
              "      <td>4958.68</td>\n",
              "      <td>21527300.0</td>\n",
              "      <td>542.667</td>\n",
              "      <td>0.000202</td>\n",
              "      <td>1</td>\n",
              "      <td>3</td>\n",
              "      <td>0</td>\n",
              "    </tr>\n",
              "  </tbody>\n",
              "</table>\n",
              "</div>"
            ],
            "text/plain": [
              "   Flow id       No.      Time  ... isNull NPEx reconnects\n",
              "0  2578261   5437860  1937.800  ...      0    0          0\n",
              "1   922661   1916650   672.836  ...      1    2          0\n",
              "2  4865614  10407401  3462.620  ...      2    4          2\n",
              "3  3159587   6844893  2225.180  ...      1    1          0\n",
              "4  4565672   9802276  3213.990  ...      1    3          0\n",
              "\n",
              "[5 rows x 36 columns]"
            ]
          },
          "metadata": {
            "tags": []
          },
          "execution_count": 5
        }
      ]
    },
    {
      "cell_type": "code",
      "metadata": {
        "id": "nQ5jqJcmTN6h",
        "colab_type": "code",
        "colab": {}
      },
      "source": [
        "df = df.sort_values(by=['Flow id']).reset_index(drop=True)"
      ],
      "execution_count": 0,
      "outputs": []
    },
    {
      "cell_type": "code",
      "metadata": {
        "id": "PUfrgg7ATQgD",
        "colab_type": "code",
        "colab": {}
      },
      "source": [
        "from sklearn import preprocessing\n",
        "num = preprocessing.LabelEncoder()\n",
        "\n",
        "num.fit(['NBNS', 'SMB', 'PKIX-CRL', 'TCP', 'SIP', 'BROWSER', 'SMTP|IMF', 'SMTP', 'DNS', 'HTTP/XML', 'SSDP', 'SNMP', 'PKTC', 'Laplink', 'IRC', 'UDP', 'SSL', 'ICMP', 'NBSS', 'Socks', 'DCERPC', 'LANMAN', 'HTTP', 'SSLv2', 'TLSv1'])\n",
        "df['Protocol_2']=num.fit_transform(df['Protocol']).astype('int')"
      ],
      "execution_count": 0,
      "outputs": []
    },
    {
      "cell_type": "code",
      "metadata": {
        "id": "yNOeVC7uTSiH",
        "colab_type": "code",
        "colab": {}
      },
      "source": [
        "df['IP_Flags'] = df['IP_Flags'].apply(lambda x:int(x,16) if x!='' else 0)"
      ],
      "execution_count": 0,
      "outputs": []
    },
    {
      "cell_type": "code",
      "metadata": {
        "id": "Ji8mpz0NTUFA",
        "colab_type": "code",
        "colab": {}
      },
      "source": [
        "df = df.fillna(-1)"
      ],
      "execution_count": 0,
      "outputs": []
    },
    {
      "cell_type": "code",
      "metadata": {
        "id": "XDuA5BDpS8GR",
        "colab_type": "code",
        "outputId": "61ddea91-b57b-4357-d63a-2852952c5dd9",
        "colab": {
          "base_uri": "https://localhost:8080/",
          "height": 187
        }
      },
      "source": [
        "import numpy as np\n",
        "import matplotlib.pyplot as plt\n",
        "from sklearn.datasets import make_classification\n",
        "from sklearn.ensemble import ExtraTreesClassifier\n",
        "from sklearn.ensemble import RandomForestClassifier\n",
        "# Build a classification task using 3 informative features\n",
        "# X, y = make_classification(n_samples=1000,\n",
        "#                            n_features=10,\n",
        "#                            n_informative=3,\n",
        "#                            n_redundant=0,\n",
        "#                            n_repeated=0,\n",
        "#                            n_classes=2,\n",
        "#                            random_state=0,\n",
        "#                            shuffle=False)\n",
        "d = ['Destination Port','Source Port','udp_Length','Length','FPL','Time to live','APL','Time','BytesTotal','Sequence number','Protocol_2','Next sequence number','TCP Segment Len','IOPR','StdDevLen',\n",
        "     'IP_Flags','tcp_Flags','SameLenPktRatio','NumForward','Forward','BitsPerSec','IAT','Total','Duration','NumPackets','AvgPktPerSec','isNull','NPEx','reconnects']\n",
        "X = np.asarray(df[['Destination Port','Source Port','udp_Length','Length','FPL','Time to live','APL','Time','BytesTotal','Sequence number','Protocol_2','Next sequence number','TCP Segment Len','IOPR','StdDevLen',\n",
        "                       'IP_Flags','tcp_Flags','SameLenPktRatio','NumForward','Forward','BitsPerSec','IAT','Total','Duration','NumPackets','AvgPktPerSec','isNull','NPEx','reconnects']])\n",
        "print(X.shape[1])\n",
        "y = np.asarray(df['isBot'])\n",
        "rfc = RandomForestClassifier(n_estimators=40) \n",
        "\n",
        "# Build a forest and compute the feature importances\n",
        "forest = ExtraTreesClassifier(n_estimators=250,random_state=0)\n",
        "\n",
        "forest.fit(X, y)\n",
        "importances = forest.feature_importances_\n",
        "std = np.std([tree.feature_importances_ for tree in forest.estimators_],axis=0)\n",
        "indices = np.argsort(importances)[::-1]\n",
        "print(indices)\n",
        "print('Success')\n",
        "# Print the feature ranking\n",
        "print(\"Feature ranking:\")\n",
        "print(importances)\n"
      ],
      "execution_count": 0,
      "outputs": [
        {
          "output_type": "stream",
          "text": [
            "29\n",
            "[ 0  1  2  5  3  4  6 15  7 10  8 17 19 14 16 12 13 11  9 18 22 24 21 25\n",
            " 20 23 26 27 28]\n",
            "Success\n",
            "Feature ranking:\n",
            "[0.14265    0.14074667 0.09486909 0.07815139 0.0679902  0.09147998\n",
            " 0.06709838 0.04539381 0.02942967 0.00782642 0.03427584 0.00813049\n",
            " 0.01104552 0.01001425 0.01918326 0.05439442 0.01688505 0.02779298\n",
            " 0.00731055 0.0220311  0.00277379 0.00287568 0.00464327 0.00267959\n",
            " 0.00402051 0.00285723 0.00203307 0.0009374  0.00048039]\n"
          ],
          "name": "stdout"
        }
      ]
    },
    {
      "cell_type": "code",
      "metadata": {
        "id": "_4YXDOz3aa-S",
        "colab_type": "code",
        "outputId": "6c918803-c3af-40c9-b45a-e09ad6c13278",
        "colab": {
          "base_uri": "https://localhost:8080/",
          "height": 102
        }
      },
      "source": [
        "import collections\n",
        "# dii = dict(zip(indices,d))\n",
        "dii = []\n",
        "dii = dict(zip(indices,d))\n",
        "dd=[]\n",
        "A = collections.OrderedDict(sorted(dii.items()))\n",
        "for i in A:\n",
        "  dd = np.append(dd,A[i])\n",
        "  i=i+1\n",
        "print(dd[:-1])"
      ],
      "execution_count": 0,
      "outputs": [
        {
          "output_type": "stream",
          "text": [
            "['Destination Port' 'Source Port' 'udp_Length' 'FPL' 'Time to live'\n",
            " 'Length' 'APL' 'BytesTotal' 'Protocol_2' 'NumForward' 'Sequence number'\n",
            " 'SameLenPktRatio' 'IP_Flags' 'tcp_Flags' 'IOPR' 'Time' 'StdDevLen'\n",
            " 'Next sequence number' 'Forward' 'TCP Segment Len' 'NumPackets' 'Total'\n",
            " 'BitsPerSec' 'AvgPktPerSec' 'IAT' 'Duration' 'isNull' 'NPEx']\n"
          ],
          "name": "stdout"
        }
      ]
    },
    {
      "cell_type": "code",
      "metadata": {
        "id": "SJK4WD2DSwBc",
        "colab_type": "code",
        "outputId": "88c6a0e1-21b1-4ecc-cbf3-ec17c6d07e88",
        "colab": {
          "base_uri": "https://localhost:8080/",
          "height": 881
        }
      },
      "source": [
        "for f in range(X.shape[1]):\n",
        "    print(\"%d. feature %s (%f)\" % (f + 1, (dii[f]), importances[indices[f]]))\n",
        "# Plot the feature importances of the forest\n",
        "plt.figure()\n",
        "plt.title(\"Feature importances\")\n",
        "plt.bar(range(X.shape[1]), importances[indices],color=\"r\", yerr=std[indices], align=\"center\")\n",
        "plt.xticks(range(X.shape[1]),dd,rotation = 90)\n",
        "plt.xlim([-1, X.shape[1]])\n",
        "plt.show()"
      ],
      "execution_count": 0,
      "outputs": [
        {
          "output_type": "stream",
          "text": [
            "1. feature Destination Port (0.142650)\n",
            "2. feature Source Port (0.140747)\n",
            "3. feature udp_Length (0.094869)\n",
            "4. feature FPL (0.091480)\n",
            "5. feature Time to live (0.078151)\n",
            "6. feature Length (0.067990)\n",
            "7. feature APL (0.067098)\n",
            "8. feature BytesTotal (0.054394)\n",
            "9. feature Protocol_2 (0.045394)\n",
            "10. feature NumForward (0.034276)\n",
            "11. feature Sequence number (0.029430)\n",
            "12. feature SameLenPktRatio (0.027793)\n",
            "13. feature IP_Flags (0.022031)\n",
            "14. feature tcp_Flags (0.019183)\n",
            "15. feature IOPR (0.016885)\n",
            "16. feature Time (0.011046)\n",
            "17. feature StdDevLen (0.010014)\n",
            "18. feature Next sequence number (0.008130)\n",
            "19. feature Forward (0.007826)\n",
            "20. feature TCP Segment Len (0.007311)\n",
            "21. feature NumPackets (0.004643)\n",
            "22. feature Total (0.004021)\n",
            "23. feature BitsPerSec (0.002876)\n",
            "24. feature AvgPktPerSec (0.002857)\n",
            "25. feature IAT (0.002774)\n",
            "26. feature Duration (0.002680)\n",
            "27. feature isNull (0.002033)\n",
            "28. feature NPEx (0.000937)\n",
            "29. feature reconnects (0.000480)\n"
          ],
          "name": "stdout"
        },
        {
          "output_type": "display_data",
          "data": {
            "image/png": "[encoded data removed]",
            "text/plain": [
              "<Figure size 432x288 with 1 Axes>"
            ]
          },
          "metadata": {
            "tags": []
          }
        }
      ]
    }
  ]
}